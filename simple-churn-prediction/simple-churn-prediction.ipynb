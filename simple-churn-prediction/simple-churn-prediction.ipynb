{
 "cells": [
  {
   "cell_type": "markdown",
   "metadata": {
    "id": "_uPehOejYbM_"
   },
   "source": [
    "# Contents\n",
    "1. [Data Cleansing](#data_clean)  \n",
    "    1.1 [Dealing with missing values](#nan_values)  \n",
    "    1.2 [Searching for duplicates](#doubles)   \n",
    "2. [Exploratory Data Analysis](#eda)  \n",
    "    2.1 [Numeric features analysis](#num_eda)  \n",
    "    2.2 [Categorical features analysis](#cat_eda)\n",
    "3. [Logistic Regression](#logreg)  \n",
    "4. [Random Forest](#rnd)\n",
    "5. [Gradient Boosting Methods](#gbm)  \n",
    "    5.1 [XGBoost](#xgb)  \n",
    "    5.2 [Catboost](#catb)"
   ]
  },
  {
   "cell_type": "code",
   "execution_count": 1,
   "metadata": {
    "colab": {
     "base_uri": "https://localhost:8080/"
    },
    "executionInfo": {
     "elapsed": 11942,
     "status": "ok",
     "timestamp": 1605557753776,
     "user": {
      "displayName": "Denis Pushkarev",
      "photoUrl": "",
      "userId": "00841803113250791635"
     },
     "user_tz": -120
    },
    "id": "1rY5e7n8bAUj",
    "outputId": "c19b0d8a-10b2-4c39-d88e-ed9eb4d1cad8"
   },
   "outputs": [
    {
     "name": "stdout",
     "output_type": "stream",
     "text": [
      "Collecting catboost\n",
      "\u001b[?25l  Downloading https://files.pythonhosted.org/packages/52/39/128fff65072c8327371e3c594f3c826d29c85b21cb6485980353b168e0e4/catboost-0.24.2-cp36-none-manylinux1_x86_64.whl (66.1MB)\n",
      "\u001b[K     |████████████████████████████████| 66.2MB 57kB/s \n",
      "\u001b[?25hRequirement already satisfied: numpy>=1.16.0 in /usr/local/lib/python3.6/dist-packages (from catboost) (1.18.5)\n",
      "Requirement already satisfied: plotly in /usr/local/lib/python3.6/dist-packages (from catboost) (4.4.1)\n",
      "Requirement already satisfied: six in /usr/local/lib/python3.6/dist-packages (from catboost) (1.15.0)\n",
      "Requirement already satisfied: pandas>=0.24.0 in /usr/local/lib/python3.6/dist-packages (from catboost) (1.1.4)\n",
      "Requirement already satisfied: graphviz in /usr/local/lib/python3.6/dist-packages (from catboost) (0.10.1)\n",
      "Requirement already satisfied: matplotlib in /usr/local/lib/python3.6/dist-packages (from catboost) (3.2.2)\n",
      "Requirement already satisfied: scipy in /usr/local/lib/python3.6/dist-packages (from catboost) (1.4.1)\n",
      "Requirement already satisfied: retrying>=1.3.3 in /usr/local/lib/python3.6/dist-packages (from plotly->catboost) (1.3.3)\n",
      "Requirement already satisfied: python-dateutil>=2.7.3 in /usr/local/lib/python3.6/dist-packages (from pandas>=0.24.0->catboost) (2.8.1)\n",
      "Requirement already satisfied: pytz>=2017.2 in /usr/local/lib/python3.6/dist-packages (from pandas>=0.24.0->catboost) (2018.9)\n",
      "Requirement already satisfied: cycler>=0.10 in /usr/local/lib/python3.6/dist-packages (from matplotlib->catboost) (0.10.0)\n",
      "Requirement already satisfied: kiwisolver>=1.0.1 in /usr/local/lib/python3.6/dist-packages (from matplotlib->catboost) (1.3.1)\n",
      "Requirement already satisfied: pyparsing!=2.0.4,!=2.1.2,!=2.1.6,>=2.0.1 in /usr/local/lib/python3.6/dist-packages (from matplotlib->catboost) (2.4.7)\n",
      "Installing collected packages: catboost\n",
      "Successfully installed catboost-0.24.2\n"
     ]
    }
   ],
   "source": [
    "#If necessary\n",
    "#!pip install catboost\n",
    "#!pip install xgboost"
   ]
  },
  {
   "cell_type": "code",
   "execution_count": 2,
   "metadata": {
    "executionInfo": {
     "elapsed": 11849,
     "status": "ok",
     "timestamp": 1605557753780,
     "user": {
      "displayName": "Denis Pushkarev",
      "photoUrl": "",
      "userId": "00841803113250791635"
     },
     "user_tz": -120
    },
    "id": "71dGfUqAz3AY"
   },
   "outputs": [],
   "source": [
    "# I used some deprecated functions (seaborn), so you can turn warnings off\n",
    "import warnings\n",
    "warnings.filterwarnings(\"ignore\", category = FutureWarning)"
   ]
  },
  {
   "cell_type": "code",
   "execution_count": 3,
   "metadata": {
    "executionInfo": {
     "elapsed": 13466,
     "status": "ok",
     "timestamp": 1605557755414,
     "user": {
      "displayName": "Denis Pushkarev",
      "photoUrl": "",
      "userId": "00841803113250791635"
     },
     "user_tz": -120
    },
    "id": "lzLqEeZKEEYz"
   },
   "outputs": [],
   "source": [
    "import itertools\n",
    "\n",
    "import pandas as pd\n",
    "import numpy as np\n",
    "import seaborn as sns\n",
    "import scipy.stats as sts\n",
    "import xgboost as xgb\n",
    "import catboost as catb\n",
    "\n",
    "from matplotlib import pyplot as plt\n",
    "from sklearn.ensemble import RandomForestClassifier\n",
    "from sklearn import pipeline, preprocessing, compose, model_selection, linear_model, metrics"
   ]
  },
  {
   "cell_type": "markdown",
   "metadata": {
    "id": "LOlxdURSEEY3"
   },
   "source": [
    "## 1. Data Cleansing <a name = \"data_clean\"></a>"
   ]
  },
  {
   "cell_type": "code",
   "execution_count": 4,
   "metadata": {
    "colab": {
     "base_uri": "https://localhost:8080/",
     "height": 299
    },
    "executionInfo": {
     "elapsed": 13326,
     "status": "ok",
     "timestamp": 1605557755421,
     "user": {
      "displayName": "Denis Pushkarev",
      "photoUrl": "",
      "userId": "00841803113250791635"
     },
     "user_tz": -120
    },
    "id": "pw-Brue9EEY3",
    "outputId": "6ca70bbf-3658-4233-b02a-2c304c3917cd",
    "scrolled": true
   },
   "outputs": [
    {
     "name": "stdout",
     "output_type": "stream",
     "text": [
      "Train dataset contains information about 5282 customers with 19 features\n"
     ]
    },
    {
     "data": {
      "text/html": [
       "<div>\n",
       "<style scoped>\n",
       "    .dataframe tbody tr th:only-of-type {\n",
       "        vertical-align: middle;\n",
       "    }\n",
       "\n",
       "    .dataframe tbody tr th {\n",
       "        vertical-align: top;\n",
       "    }\n",
       "\n",
       "    .dataframe thead th {\n",
       "        text-align: right;\n",
       "    }\n",
       "</style>\n",
       "<table border=\"1\" class=\"dataframe\">\n",
       "  <thead>\n",
       "    <tr style=\"text-align: right;\">\n",
       "      <th></th>\n",
       "      <th>ClientPeriod</th>\n",
       "      <th>MonthlySpending</th>\n",
       "      <th>TotalSpent</th>\n",
       "      <th>Sex</th>\n",
       "      <th>IsSeniorCitizen</th>\n",
       "      <th>HasPartner</th>\n",
       "      <th>HasChild</th>\n",
       "      <th>HasPhoneService</th>\n",
       "      <th>HasMultiplePhoneNumbers</th>\n",
       "      <th>HasInternetService</th>\n",
       "      <th>HasOnlineSecurityService</th>\n",
       "      <th>HasOnlineBackup</th>\n",
       "      <th>HasDeviceProtection</th>\n",
       "      <th>HasTechSupportAccess</th>\n",
       "      <th>HasOnlineTV</th>\n",
       "      <th>HasMovieSubscription</th>\n",
       "      <th>HasContractPhone</th>\n",
       "      <th>IsBillingPaperless</th>\n",
       "      <th>PaymentMethod</th>\n",
       "      <th>Churn</th>\n",
       "    </tr>\n",
       "  </thead>\n",
       "  <tbody>\n",
       "    <tr>\n",
       "      <th>0</th>\n",
       "      <td>55</td>\n",
       "      <td>19.50</td>\n",
       "      <td>1026.35</td>\n",
       "      <td>Male</td>\n",
       "      <td>0</td>\n",
       "      <td>Yes</td>\n",
       "      <td>Yes</td>\n",
       "      <td>Yes</td>\n",
       "      <td>No</td>\n",
       "      <td>No</td>\n",
       "      <td>No internet service</td>\n",
       "      <td>No internet service</td>\n",
       "      <td>No internet service</td>\n",
       "      <td>No internet service</td>\n",
       "      <td>No internet service</td>\n",
       "      <td>No internet service</td>\n",
       "      <td>One year</td>\n",
       "      <td>No</td>\n",
       "      <td>Mailed check</td>\n",
       "      <td>0</td>\n",
       "    </tr>\n",
       "    <tr>\n",
       "      <th>1</th>\n",
       "      <td>72</td>\n",
       "      <td>25.85</td>\n",
       "      <td>1872.2</td>\n",
       "      <td>Male</td>\n",
       "      <td>0</td>\n",
       "      <td>Yes</td>\n",
       "      <td>No</td>\n",
       "      <td>Yes</td>\n",
       "      <td>Yes</td>\n",
       "      <td>No</td>\n",
       "      <td>No internet service</td>\n",
       "      <td>No internet service</td>\n",
       "      <td>No internet service</td>\n",
       "      <td>No internet service</td>\n",
       "      <td>No internet service</td>\n",
       "      <td>No internet service</td>\n",
       "      <td>Two year</td>\n",
       "      <td>No</td>\n",
       "      <td>Credit card (automatic)</td>\n",
       "      <td>0</td>\n",
       "    </tr>\n",
       "    <tr>\n",
       "      <th>2</th>\n",
       "      <td>1</td>\n",
       "      <td>75.90</td>\n",
       "      <td>75.9</td>\n",
       "      <td>Male</td>\n",
       "      <td>0</td>\n",
       "      <td>No</td>\n",
       "      <td>No</td>\n",
       "      <td>Yes</td>\n",
       "      <td>No</td>\n",
       "      <td>Fiber optic</td>\n",
       "      <td>No</td>\n",
       "      <td>No</td>\n",
       "      <td>No</td>\n",
       "      <td>Yes</td>\n",
       "      <td>No</td>\n",
       "      <td>No</td>\n",
       "      <td>Month-to-month</td>\n",
       "      <td>Yes</td>\n",
       "      <td>Electronic check</td>\n",
       "      <td>1</td>\n",
       "    </tr>\n",
       "    <tr>\n",
       "      <th>3</th>\n",
       "      <td>32</td>\n",
       "      <td>79.30</td>\n",
       "      <td>2570</td>\n",
       "      <td>Female</td>\n",
       "      <td>1</td>\n",
       "      <td>Yes</td>\n",
       "      <td>No</td>\n",
       "      <td>Yes</td>\n",
       "      <td>Yes</td>\n",
       "      <td>Fiber optic</td>\n",
       "      <td>No</td>\n",
       "      <td>No</td>\n",
       "      <td>Yes</td>\n",
       "      <td>No</td>\n",
       "      <td>No</td>\n",
       "      <td>No</td>\n",
       "      <td>Month-to-month</td>\n",
       "      <td>No</td>\n",
       "      <td>Mailed check</td>\n",
       "      <td>0</td>\n",
       "    </tr>\n",
       "    <tr>\n",
       "      <th>4</th>\n",
       "      <td>60</td>\n",
       "      <td>115.25</td>\n",
       "      <td>6758.45</td>\n",
       "      <td>Female</td>\n",
       "      <td>0</td>\n",
       "      <td>Yes</td>\n",
       "      <td>Yes</td>\n",
       "      <td>Yes</td>\n",
       "      <td>Yes</td>\n",
       "      <td>Fiber optic</td>\n",
       "      <td>Yes</td>\n",
       "      <td>Yes</td>\n",
       "      <td>Yes</td>\n",
       "      <td>Yes</td>\n",
       "      <td>Yes</td>\n",
       "      <td>Yes</td>\n",
       "      <td>Two year</td>\n",
       "      <td>No</td>\n",
       "      <td>Credit card (automatic)</td>\n",
       "      <td>0</td>\n",
       "    </tr>\n",
       "  </tbody>\n",
       "</table>\n",
       "</div>"
      ],
      "text/plain": [
       "   ClientPeriod  MonthlySpending  ...            PaymentMethod Churn\n",
       "0            55            19.50  ...             Mailed check     0\n",
       "1            72            25.85  ...  Credit card (automatic)     0\n",
       "2             1            75.90  ...         Electronic check     1\n",
       "3            32            79.30  ...             Mailed check     0\n",
       "4            60           115.25  ...  Credit card (automatic)     0\n",
       "\n",
       "[5 rows x 20 columns]"
      ]
     },
     "execution_count": 4,
     "metadata": {
      "tags": []
     },
     "output_type": "execute_result"
    }
   ],
   "source": [
    "data = pd.read_csv('./train.csv')\n",
    "test_data = pd.read_csv('./test.csv')\n",
    "print(f'Train dataset contains information about {len(data)} customers with {len(data.columns) - 1} features')\n",
    "data.head()"
   ]
  },
  {
   "cell_type": "markdown",
   "metadata": {
    "id": "SHwCeivQzQ-r"
   },
   "source": [
    "### 1.1 Dealing with missing values <a name = \"nan_values\"></a>"
   ]
  },
  {
   "cell_type": "code",
   "execution_count": 5,
   "metadata": {
    "colab": {
     "base_uri": "https://localhost:8080/"
    },
    "executionInfo": {
     "elapsed": 13247,
     "status": "ok",
     "timestamp": 1605557755426,
     "user": {
      "displayName": "Denis Pushkarev",
      "photoUrl": "",
      "userId": "00841803113250791635"
     },
     "user_tz": -120
    },
    "id": "tHC6gWabEEZA",
    "outputId": "228e546c-a62c-4134-8c32-e29ab81df6db"
   },
   "outputs": [
    {
     "name": "stdout",
     "output_type": "stream",
     "text": [
      "<class 'pandas.core.frame.DataFrame'>\n",
      "RangeIndex: 5282 entries, 0 to 5281\n",
      "Data columns (total 20 columns):\n",
      " #   Column                    Non-Null Count  Dtype  \n",
      "---  ------                    --------------  -----  \n",
      " 0   ClientPeriod              5282 non-null   int64  \n",
      " 1   MonthlySpending           5282 non-null   float64\n",
      " 2   TotalSpent                5282 non-null   object \n",
      " 3   Sex                       5282 non-null   object \n",
      " 4   IsSeniorCitizen           5282 non-null   int64  \n",
      " 5   HasPartner                5282 non-null   object \n",
      " 6   HasChild                  5282 non-null   object \n",
      " 7   HasPhoneService           5282 non-null   object \n",
      " 8   HasMultiplePhoneNumbers   5282 non-null   object \n",
      " 9   HasInternetService        5282 non-null   object \n",
      " 10  HasOnlineSecurityService  5282 non-null   object \n",
      " 11  HasOnlineBackup           5282 non-null   object \n",
      " 12  HasDeviceProtection       5282 non-null   object \n",
      " 13  HasTechSupportAccess      5282 non-null   object \n",
      " 14  HasOnlineTV               5282 non-null   object \n",
      " 15  HasMovieSubscription      5282 non-null   object \n",
      " 16  HasContractPhone          5282 non-null   object \n",
      " 17  IsBillingPaperless        5282 non-null   object \n",
      " 18  PaymentMethod             5282 non-null   object \n",
      " 19  Churn                     5282 non-null   int64  \n",
      "dtypes: float64(1), int64(3), object(16)\n",
      "memory usage: 825.4+ KB\n"
     ]
    }
   ],
   "source": [
    "data.info()"
   ]
  },
  {
   "cell_type": "markdown",
   "metadata": {
    "id": "H29g_ID1YbO7"
   },
   "source": [
    "The dataset seems to have no missing values, but it's just a trick of teachers. We see many columns have **object** data type, i.e., these columns store values with mixed types. But how `TotalSpent` column can contain any values besides **int** or **float**?  \n",
    "Thankfully, we can easily interpret each feature and make some suggestions:\n",
    "1. Columns `ClientPeriod` and `MonthlySpending` must store integer or real values, what corresponds with their data types;  \n",
    "2. Column `TotalSpent` is supposed to be similar to columns above, but its data type is **object**. Hmm, very strange...  \n",
    "3. Columns `IsSeniorCitizen` and `Churn` have **int** data type. These features, by their nature, are binary. So we just need to check if they store any values besides 0 and 1;  \n",
    "4. Other features are likely to be categorical, so we should take a hard look at each of them.\n",
    "\n",
    "Let's start with `TotalSpent` and check if this column stores any values besides string ones."
   ]
  },
  {
   "cell_type": "code",
   "execution_count": 6,
   "metadata": {
    "colab": {
     "base_uri": "https://localhost:8080/"
    },
    "executionInfo": {
     "elapsed": 13093,
     "status": "ok",
     "timestamp": 1605557755430,
     "user": {
      "displayName": "Denis Pushkarev",
      "photoUrl": "",
      "userId": "00841803113250791635"
     },
     "user_tz": -120
    },
    "id": "3SDxjwh7zQ-8",
    "outputId": "4c916dc7-afeb-4c97-cc7e-dc4f184dc4e7",
    "scrolled": true
   },
   "outputs": [
    {
     "name": "stdout",
     "output_type": "stream",
     "text": [
      "[]\n",
      "[]\n"
     ]
    }
   ],
   "source": [
    "for df in (data, test_data):\n",
    "    print(list(itertools.filterfalse(lambda x: isinstance(x, str), df['TotalSpent'])))"
   ]
  },
  {
   "cell_type": "markdown",
   "metadata": {
    "id": "_1M3lZGazQ_J"
   },
   "source": [
    "Hence, column `TotalSpent` stores only string values. As we see above, its values, actually, are numeric converted to strings. So let's try convert all values to numeric and print values that can't be converted."
   ]
  },
  {
   "cell_type": "code",
   "execution_count": 7,
   "metadata": {
    "colab": {
     "base_uri": "https://localhost:8080/",
     "height": 451
    },
    "executionInfo": {
     "elapsed": 12942,
     "status": "ok",
     "timestamp": 1605557755431,
     "user": {
      "displayName": "Denis Pushkarev",
      "photoUrl": "",
      "userId": "00841803113250791635"
     },
     "user_tz": -120
    },
    "id": "eInj4EwMzQ_M",
    "outputId": "cdd54162-8eb2-468c-91f4-69914c4d1f64"
   },
   "outputs": [
    {
     "data": {
      "text/html": [
       "<div>\n",
       "<style scoped>\n",
       "    .dataframe tbody tr th:only-of-type {\n",
       "        vertical-align: middle;\n",
       "    }\n",
       "\n",
       "    .dataframe tbody tr th {\n",
       "        vertical-align: top;\n",
       "    }\n",
       "\n",
       "    .dataframe thead th {\n",
       "        text-align: right;\n",
       "    }\n",
       "</style>\n",
       "<table border=\"1\" class=\"dataframe\">\n",
       "  <thead>\n",
       "    <tr style=\"text-align: right;\">\n",
       "      <th></th>\n",
       "      <th>ClientPeriod</th>\n",
       "      <th>MonthlySpending</th>\n",
       "      <th>TotalSpent</th>\n",
       "      <th>Sex</th>\n",
       "      <th>IsSeniorCitizen</th>\n",
       "      <th>HasPartner</th>\n",
       "      <th>HasChild</th>\n",
       "      <th>HasPhoneService</th>\n",
       "      <th>HasMultiplePhoneNumbers</th>\n",
       "      <th>HasInternetService</th>\n",
       "      <th>HasOnlineSecurityService</th>\n",
       "      <th>HasOnlineBackup</th>\n",
       "      <th>HasDeviceProtection</th>\n",
       "      <th>HasTechSupportAccess</th>\n",
       "      <th>HasOnlineTV</th>\n",
       "      <th>HasMovieSubscription</th>\n",
       "      <th>HasContractPhone</th>\n",
       "      <th>IsBillingPaperless</th>\n",
       "      <th>PaymentMethod</th>\n",
       "      <th>Churn</th>\n",
       "    </tr>\n",
       "  </thead>\n",
       "  <tbody>\n",
       "    <tr>\n",
       "      <th>1048</th>\n",
       "      <td>0</td>\n",
       "      <td>25.75</td>\n",
       "      <td></td>\n",
       "      <td>Male</td>\n",
       "      <td>0</td>\n",
       "      <td>Yes</td>\n",
       "      <td>Yes</td>\n",
       "      <td>Yes</td>\n",
       "      <td>Yes</td>\n",
       "      <td>No</td>\n",
       "      <td>No internet service</td>\n",
       "      <td>No internet service</td>\n",
       "      <td>No internet service</td>\n",
       "      <td>No internet service</td>\n",
       "      <td>No internet service</td>\n",
       "      <td>No internet service</td>\n",
       "      <td>Two year</td>\n",
       "      <td>No</td>\n",
       "      <td>Mailed check</td>\n",
       "      <td>0</td>\n",
       "    </tr>\n",
       "    <tr>\n",
       "      <th>1707</th>\n",
       "      <td>0</td>\n",
       "      <td>73.35</td>\n",
       "      <td></td>\n",
       "      <td>Female</td>\n",
       "      <td>0</td>\n",
       "      <td>Yes</td>\n",
       "      <td>Yes</td>\n",
       "      <td>Yes</td>\n",
       "      <td>Yes</td>\n",
       "      <td>DSL</td>\n",
       "      <td>No</td>\n",
       "      <td>Yes</td>\n",
       "      <td>Yes</td>\n",
       "      <td>Yes</td>\n",
       "      <td>Yes</td>\n",
       "      <td>No</td>\n",
       "      <td>Two year</td>\n",
       "      <td>No</td>\n",
       "      <td>Mailed check</td>\n",
       "      <td>0</td>\n",
       "    </tr>\n",
       "    <tr>\n",
       "      <th>2543</th>\n",
       "      <td>0</td>\n",
       "      <td>19.70</td>\n",
       "      <td></td>\n",
       "      <td>Male</td>\n",
       "      <td>0</td>\n",
       "      <td>Yes</td>\n",
       "      <td>Yes</td>\n",
       "      <td>Yes</td>\n",
       "      <td>No</td>\n",
       "      <td>No</td>\n",
       "      <td>No internet service</td>\n",
       "      <td>No internet service</td>\n",
       "      <td>No internet service</td>\n",
       "      <td>No internet service</td>\n",
       "      <td>No internet service</td>\n",
       "      <td>No internet service</td>\n",
       "      <td>One year</td>\n",
       "      <td>Yes</td>\n",
       "      <td>Mailed check</td>\n",
       "      <td>0</td>\n",
       "    </tr>\n",
       "    <tr>\n",
       "      <th>3078</th>\n",
       "      <td>0</td>\n",
       "      <td>80.85</td>\n",
       "      <td></td>\n",
       "      <td>Female</td>\n",
       "      <td>0</td>\n",
       "      <td>Yes</td>\n",
       "      <td>Yes</td>\n",
       "      <td>Yes</td>\n",
       "      <td>No</td>\n",
       "      <td>DSL</td>\n",
       "      <td>Yes</td>\n",
       "      <td>Yes</td>\n",
       "      <td>Yes</td>\n",
       "      <td>No</td>\n",
       "      <td>Yes</td>\n",
       "      <td>Yes</td>\n",
       "      <td>Two year</td>\n",
       "      <td>No</td>\n",
       "      <td>Mailed check</td>\n",
       "      <td>0</td>\n",
       "    </tr>\n",
       "    <tr>\n",
       "      <th>3697</th>\n",
       "      <td>0</td>\n",
       "      <td>20.00</td>\n",
       "      <td></td>\n",
       "      <td>Female</td>\n",
       "      <td>0</td>\n",
       "      <td>Yes</td>\n",
       "      <td>Yes</td>\n",
       "      <td>Yes</td>\n",
       "      <td>No</td>\n",
       "      <td>No</td>\n",
       "      <td>No internet service</td>\n",
       "      <td>No internet service</td>\n",
       "      <td>No internet service</td>\n",
       "      <td>No internet service</td>\n",
       "      <td>No internet service</td>\n",
       "      <td>No internet service</td>\n",
       "      <td>Two year</td>\n",
       "      <td>No</td>\n",
       "      <td>Mailed check</td>\n",
       "      <td>0</td>\n",
       "    </tr>\n",
       "    <tr>\n",
       "      <th>4002</th>\n",
       "      <td>0</td>\n",
       "      <td>61.90</td>\n",
       "      <td></td>\n",
       "      <td>Male</td>\n",
       "      <td>0</td>\n",
       "      <td>No</td>\n",
       "      <td>Yes</td>\n",
       "      <td>Yes</td>\n",
       "      <td>Yes</td>\n",
       "      <td>DSL</td>\n",
       "      <td>Yes</td>\n",
       "      <td>Yes</td>\n",
       "      <td>No</td>\n",
       "      <td>Yes</td>\n",
       "      <td>No</td>\n",
       "      <td>No</td>\n",
       "      <td>Two year</td>\n",
       "      <td>Yes</td>\n",
       "      <td>Bank transfer (automatic)</td>\n",
       "      <td>0</td>\n",
       "    </tr>\n",
       "    <tr>\n",
       "      <th>4326</th>\n",
       "      <td>0</td>\n",
       "      <td>25.35</td>\n",
       "      <td></td>\n",
       "      <td>Male</td>\n",
       "      <td>0</td>\n",
       "      <td>Yes</td>\n",
       "      <td>Yes</td>\n",
       "      <td>Yes</td>\n",
       "      <td>Yes</td>\n",
       "      <td>No</td>\n",
       "      <td>No internet service</td>\n",
       "      <td>No internet service</td>\n",
       "      <td>No internet service</td>\n",
       "      <td>No internet service</td>\n",
       "      <td>No internet service</td>\n",
       "      <td>No internet service</td>\n",
       "      <td>Two year</td>\n",
       "      <td>No</td>\n",
       "      <td>Mailed check</td>\n",
       "      <td>0</td>\n",
       "    </tr>\n",
       "    <tr>\n",
       "      <th>4551</th>\n",
       "      <td>0</td>\n",
       "      <td>52.55</td>\n",
       "      <td></td>\n",
       "      <td>Female</td>\n",
       "      <td>0</td>\n",
       "      <td>Yes</td>\n",
       "      <td>Yes</td>\n",
       "      <td>No</td>\n",
       "      <td>No phone service</td>\n",
       "      <td>DSL</td>\n",
       "      <td>Yes</td>\n",
       "      <td>No</td>\n",
       "      <td>Yes</td>\n",
       "      <td>Yes</td>\n",
       "      <td>Yes</td>\n",
       "      <td>No</td>\n",
       "      <td>Two year</td>\n",
       "      <td>Yes</td>\n",
       "      <td>Bank transfer (automatic)</td>\n",
       "      <td>0</td>\n",
       "    </tr>\n",
       "    <tr>\n",
       "      <th>4598</th>\n",
       "      <td>0</td>\n",
       "      <td>56.05</td>\n",
       "      <td></td>\n",
       "      <td>Female</td>\n",
       "      <td>0</td>\n",
       "      <td>Yes</td>\n",
       "      <td>Yes</td>\n",
       "      <td>No</td>\n",
       "      <td>No phone service</td>\n",
       "      <td>DSL</td>\n",
       "      <td>Yes</td>\n",
       "      <td>Yes</td>\n",
       "      <td>Yes</td>\n",
       "      <td>Yes</td>\n",
       "      <td>Yes</td>\n",
       "      <td>No</td>\n",
       "      <td>Two year</td>\n",
       "      <td>No</td>\n",
       "      <td>Credit card (automatic)</td>\n",
       "      <td>0</td>\n",
       "    </tr>\n",
       "  </tbody>\n",
       "</table>\n",
       "</div>"
      ],
      "text/plain": [
       "      ClientPeriod  MonthlySpending  ...              PaymentMethod Churn\n",
       "1048             0            25.75  ...               Mailed check     0\n",
       "1707             0            73.35  ...               Mailed check     0\n",
       "2543             0            19.70  ...               Mailed check     0\n",
       "3078             0            80.85  ...               Mailed check     0\n",
       "3697             0            20.00  ...               Mailed check     0\n",
       "4002             0            61.90  ...  Bank transfer (automatic)     0\n",
       "4326             0            25.35  ...               Mailed check     0\n",
       "4551             0            52.55  ...  Bank transfer (automatic)     0\n",
       "4598             0            56.05  ...    Credit card (automatic)     0\n",
       "\n",
       "[9 rows x 20 columns]"
      ]
     },
     "execution_count": 7,
     "metadata": {
      "tags": []
     },
     "output_type": "execute_result"
    }
   ],
   "source": [
    "data.loc[pd.to_numeric(data['TotalSpent'], errors='coerce').isna()]"
   ]
  },
  {
   "cell_type": "code",
   "execution_count": 8,
   "metadata": {
    "colab": {
     "base_uri": "https://localhost:8080/",
     "height": 160
    },
    "executionInfo": {
     "elapsed": 12858,
     "status": "ok",
     "timestamp": 1605557755434,
     "user": {
      "displayName": "Denis Pushkarev",
      "photoUrl": "",
      "userId": "00841803113250791635"
     },
     "user_tz": -120
    },
    "id": "V6gIbIA6zQ_Z",
    "outputId": "56006c2e-7684-42c0-85e9-a35770219866"
   },
   "outputs": [
    {
     "data": {
      "text/html": [
       "<div>\n",
       "<style scoped>\n",
       "    .dataframe tbody tr th:only-of-type {\n",
       "        vertical-align: middle;\n",
       "    }\n",
       "\n",
       "    .dataframe tbody tr th {\n",
       "        vertical-align: top;\n",
       "    }\n",
       "\n",
       "    .dataframe thead th {\n",
       "        text-align: right;\n",
       "    }\n",
       "</style>\n",
       "<table border=\"1\" class=\"dataframe\">\n",
       "  <thead>\n",
       "    <tr style=\"text-align: right;\">\n",
       "      <th></th>\n",
       "      <th>ClientPeriod</th>\n",
       "      <th>MonthlySpending</th>\n",
       "      <th>TotalSpent</th>\n",
       "      <th>Sex</th>\n",
       "      <th>IsSeniorCitizen</th>\n",
       "      <th>HasPartner</th>\n",
       "      <th>HasChild</th>\n",
       "      <th>HasPhoneService</th>\n",
       "      <th>HasMultiplePhoneNumbers</th>\n",
       "      <th>HasInternetService</th>\n",
       "      <th>HasOnlineSecurityService</th>\n",
       "      <th>HasOnlineBackup</th>\n",
       "      <th>HasDeviceProtection</th>\n",
       "      <th>HasTechSupportAccess</th>\n",
       "      <th>HasOnlineTV</th>\n",
       "      <th>HasMovieSubscription</th>\n",
       "      <th>HasContractPhone</th>\n",
       "      <th>IsBillingPaperless</th>\n",
       "      <th>PaymentMethod</th>\n",
       "    </tr>\n",
       "  </thead>\n",
       "  <tbody>\n",
       "    <tr>\n",
       "      <th>177</th>\n",
       "      <td>0</td>\n",
       "      <td>19.85</td>\n",
       "      <td></td>\n",
       "      <td>Male</td>\n",
       "      <td>0</td>\n",
       "      <td>Yes</td>\n",
       "      <td>Yes</td>\n",
       "      <td>Yes</td>\n",
       "      <td>No</td>\n",
       "      <td>No</td>\n",
       "      <td>No internet service</td>\n",
       "      <td>No internet service</td>\n",
       "      <td>No internet service</td>\n",
       "      <td>No internet service</td>\n",
       "      <td>No internet service</td>\n",
       "      <td>No internet service</td>\n",
       "      <td>Two year</td>\n",
       "      <td>No</td>\n",
       "      <td>Mailed check</td>\n",
       "    </tr>\n",
       "    <tr>\n",
       "      <th>767</th>\n",
       "      <td>0</td>\n",
       "      <td>20.25</td>\n",
       "      <td></td>\n",
       "      <td>Male</td>\n",
       "      <td>0</td>\n",
       "      <td>No</td>\n",
       "      <td>Yes</td>\n",
       "      <td>Yes</td>\n",
       "      <td>No</td>\n",
       "      <td>No</td>\n",
       "      <td>No internet service</td>\n",
       "      <td>No internet service</td>\n",
       "      <td>No internet service</td>\n",
       "      <td>No internet service</td>\n",
       "      <td>No internet service</td>\n",
       "      <td>No internet service</td>\n",
       "      <td>Two year</td>\n",
       "      <td>No</td>\n",
       "      <td>Mailed check</td>\n",
       "    </tr>\n",
       "  </tbody>\n",
       "</table>\n",
       "</div>"
      ],
      "text/plain": [
       "     ClientPeriod  MonthlySpending  ... IsBillingPaperless PaymentMethod\n",
       "177             0            19.85  ...                 No  Mailed check\n",
       "767             0            20.25  ...                 No  Mailed check\n",
       "\n",
       "[2 rows x 19 columns]"
      ]
     },
     "execution_count": 8,
     "metadata": {
      "tags": []
     },
     "output_type": "execute_result"
    }
   ],
   "source": [
    "test_data.loc[pd.to_numeric(test_data['TotalSpent'], errors='coerce').isna()]"
   ]
  },
  {
   "cell_type": "markdown",
   "metadata": {
    "id": "2Po_pFKoYbPy"
   },
   "source": [
    "That's good, we have few rows with empty cell in `TotalSpent` column: 9 in train dataset and 2 in test dataset. You might want to delete these rows, because this group is less than 0.1 % of whole dataset, but be careful.  \n",
    "`ClientPeriod` for each object in this group is zero. Is it just a coincidence?"
   ]
  },
  {
   "cell_type": "code",
   "execution_count": 9,
   "metadata": {
    "colab": {
     "base_uri": "https://localhost:8080/",
     "height": 451
    },
    "executionInfo": {
     "elapsed": 12811,
     "status": "ok",
     "timestamp": 1605557755440,
     "user": {
      "displayName": "Denis Pushkarev",
      "photoUrl": "",
      "userId": "00841803113250791635"
     },
     "user_tz": -120
    },
    "id": "VbrhtJETYbP1",
    "outputId": "7426bd46-234d-4928-9d49-dec5c59f381e"
   },
   "outputs": [
    {
     "data": {
      "text/html": [
       "<div>\n",
       "<style scoped>\n",
       "    .dataframe tbody tr th:only-of-type {\n",
       "        vertical-align: middle;\n",
       "    }\n",
       "\n",
       "    .dataframe tbody tr th {\n",
       "        vertical-align: top;\n",
       "    }\n",
       "\n",
       "    .dataframe thead th {\n",
       "        text-align: right;\n",
       "    }\n",
       "</style>\n",
       "<table border=\"1\" class=\"dataframe\">\n",
       "  <thead>\n",
       "    <tr style=\"text-align: right;\">\n",
       "      <th></th>\n",
       "      <th>ClientPeriod</th>\n",
       "      <th>MonthlySpending</th>\n",
       "      <th>TotalSpent</th>\n",
       "      <th>Sex</th>\n",
       "      <th>IsSeniorCitizen</th>\n",
       "      <th>HasPartner</th>\n",
       "      <th>HasChild</th>\n",
       "      <th>HasPhoneService</th>\n",
       "      <th>HasMultiplePhoneNumbers</th>\n",
       "      <th>HasInternetService</th>\n",
       "      <th>HasOnlineSecurityService</th>\n",
       "      <th>HasOnlineBackup</th>\n",
       "      <th>HasDeviceProtection</th>\n",
       "      <th>HasTechSupportAccess</th>\n",
       "      <th>HasOnlineTV</th>\n",
       "      <th>HasMovieSubscription</th>\n",
       "      <th>HasContractPhone</th>\n",
       "      <th>IsBillingPaperless</th>\n",
       "      <th>PaymentMethod</th>\n",
       "      <th>Churn</th>\n",
       "    </tr>\n",
       "  </thead>\n",
       "  <tbody>\n",
       "    <tr>\n",
       "      <th>1048</th>\n",
       "      <td>0</td>\n",
       "      <td>25.75</td>\n",
       "      <td></td>\n",
       "      <td>Male</td>\n",
       "      <td>0</td>\n",
       "      <td>Yes</td>\n",
       "      <td>Yes</td>\n",
       "      <td>Yes</td>\n",
       "      <td>Yes</td>\n",
       "      <td>No</td>\n",
       "      <td>No internet service</td>\n",
       "      <td>No internet service</td>\n",
       "      <td>No internet service</td>\n",
       "      <td>No internet service</td>\n",
       "      <td>No internet service</td>\n",
       "      <td>No internet service</td>\n",
       "      <td>Two year</td>\n",
       "      <td>No</td>\n",
       "      <td>Mailed check</td>\n",
       "      <td>0</td>\n",
       "    </tr>\n",
       "    <tr>\n",
       "      <th>1707</th>\n",
       "      <td>0</td>\n",
       "      <td>73.35</td>\n",
       "      <td></td>\n",
       "      <td>Female</td>\n",
       "      <td>0</td>\n",
       "      <td>Yes</td>\n",
       "      <td>Yes</td>\n",
       "      <td>Yes</td>\n",
       "      <td>Yes</td>\n",
       "      <td>DSL</td>\n",
       "      <td>No</td>\n",
       "      <td>Yes</td>\n",
       "      <td>Yes</td>\n",
       "      <td>Yes</td>\n",
       "      <td>Yes</td>\n",
       "      <td>No</td>\n",
       "      <td>Two year</td>\n",
       "      <td>No</td>\n",
       "      <td>Mailed check</td>\n",
       "      <td>0</td>\n",
       "    </tr>\n",
       "    <tr>\n",
       "      <th>2543</th>\n",
       "      <td>0</td>\n",
       "      <td>19.70</td>\n",
       "      <td></td>\n",
       "      <td>Male</td>\n",
       "      <td>0</td>\n",
       "      <td>Yes</td>\n",
       "      <td>Yes</td>\n",
       "      <td>Yes</td>\n",
       "      <td>No</td>\n",
       "      <td>No</td>\n",
       "      <td>No internet service</td>\n",
       "      <td>No internet service</td>\n",
       "      <td>No internet service</td>\n",
       "      <td>No internet service</td>\n",
       "      <td>No internet service</td>\n",
       "      <td>No internet service</td>\n",
       "      <td>One year</td>\n",
       "      <td>Yes</td>\n",
       "      <td>Mailed check</td>\n",
       "      <td>0</td>\n",
       "    </tr>\n",
       "    <tr>\n",
       "      <th>3078</th>\n",
       "      <td>0</td>\n",
       "      <td>80.85</td>\n",
       "      <td></td>\n",
       "      <td>Female</td>\n",
       "      <td>0</td>\n",
       "      <td>Yes</td>\n",
       "      <td>Yes</td>\n",
       "      <td>Yes</td>\n",
       "      <td>No</td>\n",
       "      <td>DSL</td>\n",
       "      <td>Yes</td>\n",
       "      <td>Yes</td>\n",
       "      <td>Yes</td>\n",
       "      <td>No</td>\n",
       "      <td>Yes</td>\n",
       "      <td>Yes</td>\n",
       "      <td>Two year</td>\n",
       "      <td>No</td>\n",
       "      <td>Mailed check</td>\n",
       "      <td>0</td>\n",
       "    </tr>\n",
       "    <tr>\n",
       "      <th>3697</th>\n",
       "      <td>0</td>\n",
       "      <td>20.00</td>\n",
       "      <td></td>\n",
       "      <td>Female</td>\n",
       "      <td>0</td>\n",
       "      <td>Yes</td>\n",
       "      <td>Yes</td>\n",
       "      <td>Yes</td>\n",
       "      <td>No</td>\n",
       "      <td>No</td>\n",
       "      <td>No internet service</td>\n",
       "      <td>No internet service</td>\n",
       "      <td>No internet service</td>\n",
       "      <td>No internet service</td>\n",
       "      <td>No internet service</td>\n",
       "      <td>No internet service</td>\n",
       "      <td>Two year</td>\n",
       "      <td>No</td>\n",
       "      <td>Mailed check</td>\n",
       "      <td>0</td>\n",
       "    </tr>\n",
       "    <tr>\n",
       "      <th>4002</th>\n",
       "      <td>0</td>\n",
       "      <td>61.90</td>\n",
       "      <td></td>\n",
       "      <td>Male</td>\n",
       "      <td>0</td>\n",
       "      <td>No</td>\n",
       "      <td>Yes</td>\n",
       "      <td>Yes</td>\n",
       "      <td>Yes</td>\n",
       "      <td>DSL</td>\n",
       "      <td>Yes</td>\n",
       "      <td>Yes</td>\n",
       "      <td>No</td>\n",
       "      <td>Yes</td>\n",
       "      <td>No</td>\n",
       "      <td>No</td>\n",
       "      <td>Two year</td>\n",
       "      <td>Yes</td>\n",
       "      <td>Bank transfer (automatic)</td>\n",
       "      <td>0</td>\n",
       "    </tr>\n",
       "    <tr>\n",
       "      <th>4326</th>\n",
       "      <td>0</td>\n",
       "      <td>25.35</td>\n",
       "      <td></td>\n",
       "      <td>Male</td>\n",
       "      <td>0</td>\n",
       "      <td>Yes</td>\n",
       "      <td>Yes</td>\n",
       "      <td>Yes</td>\n",
       "      <td>Yes</td>\n",
       "      <td>No</td>\n",
       "      <td>No internet service</td>\n",
       "      <td>No internet service</td>\n",
       "      <td>No internet service</td>\n",
       "      <td>No internet service</td>\n",
       "      <td>No internet service</td>\n",
       "      <td>No internet service</td>\n",
       "      <td>Two year</td>\n",
       "      <td>No</td>\n",
       "      <td>Mailed check</td>\n",
       "      <td>0</td>\n",
       "    </tr>\n",
       "    <tr>\n",
       "      <th>4551</th>\n",
       "      <td>0</td>\n",
       "      <td>52.55</td>\n",
       "      <td></td>\n",
       "      <td>Female</td>\n",
       "      <td>0</td>\n",
       "      <td>Yes</td>\n",
       "      <td>Yes</td>\n",
       "      <td>No</td>\n",
       "      <td>No phone service</td>\n",
       "      <td>DSL</td>\n",
       "      <td>Yes</td>\n",
       "      <td>No</td>\n",
       "      <td>Yes</td>\n",
       "      <td>Yes</td>\n",
       "      <td>Yes</td>\n",
       "      <td>No</td>\n",
       "      <td>Two year</td>\n",
       "      <td>Yes</td>\n",
       "      <td>Bank transfer (automatic)</td>\n",
       "      <td>0</td>\n",
       "    </tr>\n",
       "    <tr>\n",
       "      <th>4598</th>\n",
       "      <td>0</td>\n",
       "      <td>56.05</td>\n",
       "      <td></td>\n",
       "      <td>Female</td>\n",
       "      <td>0</td>\n",
       "      <td>Yes</td>\n",
       "      <td>Yes</td>\n",
       "      <td>No</td>\n",
       "      <td>No phone service</td>\n",
       "      <td>DSL</td>\n",
       "      <td>Yes</td>\n",
       "      <td>Yes</td>\n",
       "      <td>Yes</td>\n",
       "      <td>Yes</td>\n",
       "      <td>Yes</td>\n",
       "      <td>No</td>\n",
       "      <td>Two year</td>\n",
       "      <td>No</td>\n",
       "      <td>Credit card (automatic)</td>\n",
       "      <td>0</td>\n",
       "    </tr>\n",
       "  </tbody>\n",
       "</table>\n",
       "</div>"
      ],
      "text/plain": [
       "      ClientPeriod  MonthlySpending  ...              PaymentMethod Churn\n",
       "1048             0            25.75  ...               Mailed check     0\n",
       "1707             0            73.35  ...               Mailed check     0\n",
       "2543             0            19.70  ...               Mailed check     0\n",
       "3078             0            80.85  ...               Mailed check     0\n",
       "3697             0            20.00  ...               Mailed check     0\n",
       "4002             0            61.90  ...  Bank transfer (automatic)     0\n",
       "4326             0            25.35  ...               Mailed check     0\n",
       "4551             0            52.55  ...  Bank transfer (automatic)     0\n",
       "4598             0            56.05  ...    Credit card (automatic)     0\n",
       "\n",
       "[9 rows x 20 columns]"
      ]
     },
     "execution_count": 9,
     "metadata": {
      "tags": []
     },
     "output_type": "execute_result"
    }
   ],
   "source": [
    "data.loc[(data['ClientPeriod'] == 0) | (data['TotalSpent'] == '')]"
   ]
  },
  {
   "cell_type": "code",
   "execution_count": 10,
   "metadata": {
    "colab": {
     "base_uri": "https://localhost:8080/",
     "height": 160
    },
    "executionInfo": {
     "elapsed": 12764,
     "status": "ok",
     "timestamp": 1605557755442,
     "user": {
      "displayName": "Denis Pushkarev",
      "photoUrl": "",
      "userId": "00841803113250791635"
     },
     "user_tz": -120
    },
    "id": "s7QcV0WZzRAB",
    "outputId": "fd3746f6-3246-4689-e893-a192a464eb21"
   },
   "outputs": [
    {
     "data": {
      "text/html": [
       "<div>\n",
       "<style scoped>\n",
       "    .dataframe tbody tr th:only-of-type {\n",
       "        vertical-align: middle;\n",
       "    }\n",
       "\n",
       "    .dataframe tbody tr th {\n",
       "        vertical-align: top;\n",
       "    }\n",
       "\n",
       "    .dataframe thead th {\n",
       "        text-align: right;\n",
       "    }\n",
       "</style>\n",
       "<table border=\"1\" class=\"dataframe\">\n",
       "  <thead>\n",
       "    <tr style=\"text-align: right;\">\n",
       "      <th></th>\n",
       "      <th>ClientPeriod</th>\n",
       "      <th>MonthlySpending</th>\n",
       "      <th>TotalSpent</th>\n",
       "      <th>Sex</th>\n",
       "      <th>IsSeniorCitizen</th>\n",
       "      <th>HasPartner</th>\n",
       "      <th>HasChild</th>\n",
       "      <th>HasPhoneService</th>\n",
       "      <th>HasMultiplePhoneNumbers</th>\n",
       "      <th>HasInternetService</th>\n",
       "      <th>HasOnlineSecurityService</th>\n",
       "      <th>HasOnlineBackup</th>\n",
       "      <th>HasDeviceProtection</th>\n",
       "      <th>HasTechSupportAccess</th>\n",
       "      <th>HasOnlineTV</th>\n",
       "      <th>HasMovieSubscription</th>\n",
       "      <th>HasContractPhone</th>\n",
       "      <th>IsBillingPaperless</th>\n",
       "      <th>PaymentMethod</th>\n",
       "    </tr>\n",
       "  </thead>\n",
       "  <tbody>\n",
       "    <tr>\n",
       "      <th>177</th>\n",
       "      <td>0</td>\n",
       "      <td>19.85</td>\n",
       "      <td></td>\n",
       "      <td>Male</td>\n",
       "      <td>0</td>\n",
       "      <td>Yes</td>\n",
       "      <td>Yes</td>\n",
       "      <td>Yes</td>\n",
       "      <td>No</td>\n",
       "      <td>No</td>\n",
       "      <td>No internet service</td>\n",
       "      <td>No internet service</td>\n",
       "      <td>No internet service</td>\n",
       "      <td>No internet service</td>\n",
       "      <td>No internet service</td>\n",
       "      <td>No internet service</td>\n",
       "      <td>Two year</td>\n",
       "      <td>No</td>\n",
       "      <td>Mailed check</td>\n",
       "    </tr>\n",
       "    <tr>\n",
       "      <th>767</th>\n",
       "      <td>0</td>\n",
       "      <td>20.25</td>\n",
       "      <td></td>\n",
       "      <td>Male</td>\n",
       "      <td>0</td>\n",
       "      <td>No</td>\n",
       "      <td>Yes</td>\n",
       "      <td>Yes</td>\n",
       "      <td>No</td>\n",
       "      <td>No</td>\n",
       "      <td>No internet service</td>\n",
       "      <td>No internet service</td>\n",
       "      <td>No internet service</td>\n",
       "      <td>No internet service</td>\n",
       "      <td>No internet service</td>\n",
       "      <td>No internet service</td>\n",
       "      <td>Two year</td>\n",
       "      <td>No</td>\n",
       "      <td>Mailed check</td>\n",
       "    </tr>\n",
       "  </tbody>\n",
       "</table>\n",
       "</div>"
      ],
      "text/plain": [
       "     ClientPeriod  MonthlySpending  ... IsBillingPaperless PaymentMethod\n",
       "177             0            19.85  ...                 No  Mailed check\n",
       "767             0            20.25  ...                 No  Mailed check\n",
       "\n",
       "[2 rows x 19 columns]"
      ]
     },
     "execution_count": 10,
     "metadata": {
      "tags": []
     },
     "output_type": "execute_result"
    }
   ],
   "source": [
    "test_data.loc[(test_data['ClientPeriod'] == 0) | (test_data['TotalSpent'] == '')]"
   ]
  },
  {
   "cell_type": "markdown",
   "metadata": {
    "id": "brHS_75lYbQF"
   },
   "source": [
    "No, it's the same group. What's next? Delete or replace values and how?  \n",
    "Deleting may lead to the loss of valuable information – we will erase the whole group of customers, moreover, we can't just delete rows from the test set. Reckless replacing may lead to the appearance of outliers and data distortion.  \n",
    "Common sense tells us that these objects may be customers who just have signed contract very recently, less than a month ago. That's why their `Churn` label is zero too.  \n",
    "Then it seems logical to replace these empty cells to zeros.\n",
    "_____\n",
    "*Note for future experiments:*  \n",
    "It's really simple solution, but there is no guarantee that it's the best one. In the future we can try other replacing methods, for example, KNN-algorithm."
   ]
  },
  {
   "cell_type": "code",
   "execution_count": 11,
   "metadata": {
    "executionInfo": {
     "elapsed": 12755,
     "status": "ok",
     "timestamp": 1605557755445,
     "user": {
      "displayName": "Denis Pushkarev",
      "photoUrl": "",
      "userId": "00841803113250791635"
     },
     "user_tz": -120
    },
    "id": "xag7QkfTYbQJ"
   },
   "outputs": [],
   "source": [
    "for df in (data, test_data):\n",
    "    df['TotalSpent'] = pd.to_numeric(df['TotalSpent'], errors='coerce')\n",
    "    df.loc[df['ClientPeriod'] == 0, 'TotalSpent'] = 0"
   ]
  },
  {
   "cell_type": "code",
   "execution_count": 12,
   "metadata": {
    "colab": {
     "base_uri": "https://localhost:8080/"
    },
    "executionInfo": {
     "elapsed": 13498,
     "status": "ok",
     "timestamp": 1605557756225,
     "user": {
      "displayName": "Denis Pushkarev",
      "photoUrl": "",
      "userId": "00841803113250791635"
     },
     "user_tz": -120
    },
    "id": "lW571tM6YbQ1",
    "outputId": "edfb4c2a-6146-4e41-a339-40f7e1400981"
   },
   "outputs": [
    {
     "name": "stdout",
     "output_type": "stream",
     "text": [
      "Feature – its categories:\n",
      "\n",
      "Sex – ['Male' 'Female']\n",
      "IsSeniorCitizen – [0 1]\n",
      "HasPartner – ['Yes' 'No']\n",
      "HasChild – ['Yes' 'No']\n",
      "HasPhoneService – ['Yes' 'No']\n",
      "HasMultiplePhoneNumbers – ['No' 'Yes' 'No phone service']\n",
      "HasInternetService – ['No' 'Fiber optic' 'DSL']\n",
      "HasOnlineSecurityService – ['No internet service' 'No' 'Yes']\n",
      "HasOnlineBackup – ['No internet service' 'No' 'Yes']\n",
      "HasDeviceProtection – ['No internet service' 'No' 'Yes']\n",
      "HasTechSupportAccess – ['No internet service' 'Yes' 'No']\n",
      "HasOnlineTV – ['No internet service' 'No' 'Yes']\n",
      "HasMovieSubscription – ['No internet service' 'No' 'Yes']\n",
      "HasContractPhone – ['One year' 'Two year' 'Month-to-month']\n",
      "IsBillingPaperless – ['No' 'Yes']\n",
      "PaymentMethod – ['Mailed check' 'Credit card (automatic)' 'Electronic check'\n",
      " 'Bank transfer (automatic)']\n",
      "Churn – [0 1]\n"
     ]
    }
   ],
   "source": [
    "print('Feature – its categories:\\n')\n",
    "for feat in data.columns.tolist()[3:]:\n",
    "    print(f'{feat} – {data[feat].unique()}')"
   ]
  },
  {
   "cell_type": "markdown",
   "metadata": {
    "id": "9PUOaHGBYbRH"
   },
   "source": [
    "Everything looks all right.\n",
    "The cardinality of features: `Sex`, `HasPartner`, `HasChild`, `HasPhoneService`, `IsBillingPaperless` – is 2, so we can transform them to binary ones like `IsSeniorCitizen` feature."
   ]
  },
  {
   "cell_type": "code",
   "execution_count": 13,
   "metadata": {
    "colab": {
     "base_uri": "https://localhost:8080/",
     "height": 282
    },
    "executionInfo": {
     "elapsed": 13454,
     "status": "ok",
     "timestamp": 1605557756228,
     "user": {
      "displayName": "Denis Pushkarev",
      "photoUrl": "",
      "userId": "00841803113250791635"
     },
     "user_tz": -120
    },
    "id": "pL5HDpDEYbRN",
    "outputId": "00a59c70-a941-459f-e4e2-2772d992f3b9"
   },
   "outputs": [
    {
     "data": {
      "text/html": [
       "<div>\n",
       "<style scoped>\n",
       "    .dataframe tbody tr th:only-of-type {\n",
       "        vertical-align: middle;\n",
       "    }\n",
       "\n",
       "    .dataframe tbody tr th {\n",
       "        vertical-align: top;\n",
       "    }\n",
       "\n",
       "    .dataframe thead th {\n",
       "        text-align: right;\n",
       "    }\n",
       "</style>\n",
       "<table border=\"1\" class=\"dataframe\">\n",
       "  <thead>\n",
       "    <tr style=\"text-align: right;\">\n",
       "      <th></th>\n",
       "      <th>ClientPeriod</th>\n",
       "      <th>MonthlySpending</th>\n",
       "      <th>TotalSpent</th>\n",
       "      <th>Sex</th>\n",
       "      <th>IsSeniorCitizen</th>\n",
       "      <th>HasPartner</th>\n",
       "      <th>HasChild</th>\n",
       "      <th>HasPhoneService</th>\n",
       "      <th>HasMultiplePhoneNumbers</th>\n",
       "      <th>HasInternetService</th>\n",
       "      <th>HasOnlineSecurityService</th>\n",
       "      <th>HasOnlineBackup</th>\n",
       "      <th>HasDeviceProtection</th>\n",
       "      <th>HasTechSupportAccess</th>\n",
       "      <th>HasOnlineTV</th>\n",
       "      <th>HasMovieSubscription</th>\n",
       "      <th>HasContractPhone</th>\n",
       "      <th>IsBillingPaperless</th>\n",
       "      <th>PaymentMethod</th>\n",
       "      <th>Churn</th>\n",
       "    </tr>\n",
       "  </thead>\n",
       "  <tbody>\n",
       "    <tr>\n",
       "      <th>0</th>\n",
       "      <td>55</td>\n",
       "      <td>19.50</td>\n",
       "      <td>1026.35</td>\n",
       "      <td>0</td>\n",
       "      <td>0</td>\n",
       "      <td>1</td>\n",
       "      <td>1</td>\n",
       "      <td>1</td>\n",
       "      <td>No</td>\n",
       "      <td>No</td>\n",
       "      <td>No internet service</td>\n",
       "      <td>No internet service</td>\n",
       "      <td>No internet service</td>\n",
       "      <td>No internet service</td>\n",
       "      <td>No internet service</td>\n",
       "      <td>No internet service</td>\n",
       "      <td>One year</td>\n",
       "      <td>0</td>\n",
       "      <td>Mailed check</td>\n",
       "      <td>0</td>\n",
       "    </tr>\n",
       "    <tr>\n",
       "      <th>1</th>\n",
       "      <td>72</td>\n",
       "      <td>25.85</td>\n",
       "      <td>1872.20</td>\n",
       "      <td>0</td>\n",
       "      <td>0</td>\n",
       "      <td>1</td>\n",
       "      <td>0</td>\n",
       "      <td>1</td>\n",
       "      <td>Yes</td>\n",
       "      <td>No</td>\n",
       "      <td>No internet service</td>\n",
       "      <td>No internet service</td>\n",
       "      <td>No internet service</td>\n",
       "      <td>No internet service</td>\n",
       "      <td>No internet service</td>\n",
       "      <td>No internet service</td>\n",
       "      <td>Two year</td>\n",
       "      <td>0</td>\n",
       "      <td>Credit card (automatic)</td>\n",
       "      <td>0</td>\n",
       "    </tr>\n",
       "    <tr>\n",
       "      <th>2</th>\n",
       "      <td>1</td>\n",
       "      <td>75.90</td>\n",
       "      <td>75.90</td>\n",
       "      <td>0</td>\n",
       "      <td>0</td>\n",
       "      <td>0</td>\n",
       "      <td>0</td>\n",
       "      <td>1</td>\n",
       "      <td>No</td>\n",
       "      <td>Fiber optic</td>\n",
       "      <td>No</td>\n",
       "      <td>No</td>\n",
       "      <td>No</td>\n",
       "      <td>Yes</td>\n",
       "      <td>No</td>\n",
       "      <td>No</td>\n",
       "      <td>Month-to-month</td>\n",
       "      <td>1</td>\n",
       "      <td>Electronic check</td>\n",
       "      <td>1</td>\n",
       "    </tr>\n",
       "    <tr>\n",
       "      <th>3</th>\n",
       "      <td>32</td>\n",
       "      <td>79.30</td>\n",
       "      <td>2570.00</td>\n",
       "      <td>1</td>\n",
       "      <td>1</td>\n",
       "      <td>1</td>\n",
       "      <td>0</td>\n",
       "      <td>1</td>\n",
       "      <td>Yes</td>\n",
       "      <td>Fiber optic</td>\n",
       "      <td>No</td>\n",
       "      <td>No</td>\n",
       "      <td>Yes</td>\n",
       "      <td>No</td>\n",
       "      <td>No</td>\n",
       "      <td>No</td>\n",
       "      <td>Month-to-month</td>\n",
       "      <td>0</td>\n",
       "      <td>Mailed check</td>\n",
       "      <td>0</td>\n",
       "    </tr>\n",
       "    <tr>\n",
       "      <th>4</th>\n",
       "      <td>60</td>\n",
       "      <td>115.25</td>\n",
       "      <td>6758.45</td>\n",
       "      <td>1</td>\n",
       "      <td>0</td>\n",
       "      <td>1</td>\n",
       "      <td>1</td>\n",
       "      <td>1</td>\n",
       "      <td>Yes</td>\n",
       "      <td>Fiber optic</td>\n",
       "      <td>Yes</td>\n",
       "      <td>Yes</td>\n",
       "      <td>Yes</td>\n",
       "      <td>Yes</td>\n",
       "      <td>Yes</td>\n",
       "      <td>Yes</td>\n",
       "      <td>Two year</td>\n",
       "      <td>0</td>\n",
       "      <td>Credit card (automatic)</td>\n",
       "      <td>0</td>\n",
       "    </tr>\n",
       "  </tbody>\n",
       "</table>\n",
       "</div>"
      ],
      "text/plain": [
       "   ClientPeriod  MonthlySpending  ...            PaymentMethod  Churn\n",
       "0            55            19.50  ...             Mailed check      0\n",
       "1            72            25.85  ...  Credit card (automatic)      0\n",
       "2             1            75.90  ...         Electronic check      1\n",
       "3            32            79.30  ...             Mailed check      0\n",
       "4            60           115.25  ...  Credit card (automatic)      0\n",
       "\n",
       "[5 rows x 20 columns]"
      ]
     },
     "execution_count": 13,
     "metadata": {
      "tags": []
     },
     "output_type": "execute_result"
    }
   ],
   "source": [
    "bin_feats = ['Sex', 'HasPartner', 'HasChild', 'HasPhoneService', 'IsBillingPaperless']\n",
    "bin_dict = {'Male': 0, 'Female' : 1, 'No': 0, 'Yes': 1}\n",
    "for df in (data, test_data):\n",
    "    df.loc[:, bin_feats] = df.loc[:, bin_feats].replace(bin_dict)\n",
    "bin_feats.append('IsSeniorCitizen')\n",
    "data.head()"
   ]
  },
  {
   "cell_type": "code",
   "execution_count": 14,
   "metadata": {
    "colab": {
     "base_uri": "https://localhost:8080/"
    },
    "executionInfo": {
     "elapsed": 13419,
     "status": "ok",
     "timestamp": 1605557756230,
     "user": {
      "displayName": "Denis Pushkarev",
      "photoUrl": "",
      "userId": "00841803113250791635"
     },
     "user_tz": -120
    },
    "id": "my053SANzRAy",
    "outputId": "ae5a198b-bdfe-428b-c62a-b9b0cda99726"
   },
   "outputs": [
    {
     "name": "stdout",
     "output_type": "stream",
     "text": [
      "True\n"
     ]
    }
   ],
   "source": [
    "num_feats = ['ClientPeriod', 'MonthlySpending', 'TotalSpent']\n",
    "cat_feats = data.select_dtypes(exclude='number').columns.tolist()\n",
    "\n",
    "all_feats = num_feats + bin_feats + cat_feats\n",
    "target = ['Churn']\n",
    "\n",
    "print(sorted(all_feats + target) == sorted(data.columns.tolist()))"
   ]
  },
  {
   "cell_type": "markdown",
   "metadata": {
    "id": "GDWdTKC3YbRv"
   },
   "source": [
    "### 1.2 Searching for duplicates <a name = \"doubles\"></a>"
   ]
  },
  {
   "cell_type": "code",
   "execution_count": 15,
   "metadata": {
    "colab": {
     "base_uri": "https://localhost:8080/",
     "height": 700
    },
    "executionInfo": {
     "elapsed": 13385,
     "status": "ok",
     "timestamp": 1605557756232,
     "user": {
      "displayName": "Denis Pushkarev",
      "photoUrl": "",
      "userId": "00841803113250791635"
     },
     "user_tz": -120
    },
    "id": "3A6hIhtuYbSh",
    "outputId": "3c788653-5473-46d0-f5ad-e43844bc5abb"
   },
   "outputs": [
    {
     "name": "stdout",
     "output_type": "stream",
     "text": [
      "The number of all duplicates is 28 with 14 unique ones\n"
     ]
    },
    {
     "data": {
      "text/html": [
       "<div>\n",
       "<style scoped>\n",
       "    .dataframe tbody tr th:only-of-type {\n",
       "        vertical-align: middle;\n",
       "    }\n",
       "\n",
       "    .dataframe tbody tr th {\n",
       "        vertical-align: top;\n",
       "    }\n",
       "\n",
       "    .dataframe thead th {\n",
       "        text-align: right;\n",
       "    }\n",
       "</style>\n",
       "<table border=\"1\" class=\"dataframe\">\n",
       "  <thead>\n",
       "    <tr style=\"text-align: right;\">\n",
       "      <th></th>\n",
       "      <th>ClientPeriod</th>\n",
       "      <th>MonthlySpending</th>\n",
       "      <th>TotalSpent</th>\n",
       "      <th>Sex</th>\n",
       "      <th>IsSeniorCitizen</th>\n",
       "      <th>HasPartner</th>\n",
       "      <th>HasChild</th>\n",
       "      <th>HasPhoneService</th>\n",
       "      <th>HasMultiplePhoneNumbers</th>\n",
       "      <th>HasInternetService</th>\n",
       "      <th>HasOnlineSecurityService</th>\n",
       "      <th>HasOnlineBackup</th>\n",
       "      <th>HasDeviceProtection</th>\n",
       "      <th>HasTechSupportAccess</th>\n",
       "      <th>HasOnlineTV</th>\n",
       "      <th>HasMovieSubscription</th>\n",
       "      <th>HasContractPhone</th>\n",
       "      <th>IsBillingPaperless</th>\n",
       "      <th>PaymentMethod</th>\n",
       "      <th>Churn</th>\n",
       "    </tr>\n",
       "  </thead>\n",
       "  <tbody>\n",
       "    <tr>\n",
       "      <th>1384</th>\n",
       "      <td>1</td>\n",
       "      <td>69.90</td>\n",
       "      <td>69.90</td>\n",
       "      <td>0</td>\n",
       "      <td>0</td>\n",
       "      <td>0</td>\n",
       "      <td>0</td>\n",
       "      <td>1</td>\n",
       "      <td>No</td>\n",
       "      <td>Fiber optic</td>\n",
       "      <td>No</td>\n",
       "      <td>No</td>\n",
       "      <td>No</td>\n",
       "      <td>No</td>\n",
       "      <td>No</td>\n",
       "      <td>No</td>\n",
       "      <td>Month-to-month</td>\n",
       "      <td>1</td>\n",
       "      <td>Electronic check</td>\n",
       "      <td>1</td>\n",
       "    </tr>\n",
       "    <tr>\n",
       "      <th>1474</th>\n",
       "      <td>1</td>\n",
       "      <td>20.05</td>\n",
       "      <td>20.05</td>\n",
       "      <td>0</td>\n",
       "      <td>0</td>\n",
       "      <td>0</td>\n",
       "      <td>0</td>\n",
       "      <td>1</td>\n",
       "      <td>No</td>\n",
       "      <td>No</td>\n",
       "      <td>No internet service</td>\n",
       "      <td>No internet service</td>\n",
       "      <td>No internet service</td>\n",
       "      <td>No internet service</td>\n",
       "      <td>No internet service</td>\n",
       "      <td>No internet service</td>\n",
       "      <td>Month-to-month</td>\n",
       "      <td>0</td>\n",
       "      <td>Mailed check</td>\n",
       "      <td>0</td>\n",
       "    </tr>\n",
       "    <tr>\n",
       "      <th>1636</th>\n",
       "      <td>1</td>\n",
       "      <td>19.65</td>\n",
       "      <td>19.65</td>\n",
       "      <td>1</td>\n",
       "      <td>0</td>\n",
       "      <td>0</td>\n",
       "      <td>0</td>\n",
       "      <td>1</td>\n",
       "      <td>No</td>\n",
       "      <td>No</td>\n",
       "      <td>No internet service</td>\n",
       "      <td>No internet service</td>\n",
       "      <td>No internet service</td>\n",
       "      <td>No internet service</td>\n",
       "      <td>No internet service</td>\n",
       "      <td>No internet service</td>\n",
       "      <td>Month-to-month</td>\n",
       "      <td>0</td>\n",
       "      <td>Mailed check</td>\n",
       "      <td>0</td>\n",
       "    </tr>\n",
       "    <tr>\n",
       "      <th>1959</th>\n",
       "      <td>1</td>\n",
       "      <td>45.70</td>\n",
       "      <td>45.70</td>\n",
       "      <td>0</td>\n",
       "      <td>0</td>\n",
       "      <td>0</td>\n",
       "      <td>0</td>\n",
       "      <td>1</td>\n",
       "      <td>No</td>\n",
       "      <td>DSL</td>\n",
       "      <td>No</td>\n",
       "      <td>No</td>\n",
       "      <td>No</td>\n",
       "      <td>No</td>\n",
       "      <td>No</td>\n",
       "      <td>No</td>\n",
       "      <td>Month-to-month</td>\n",
       "      <td>1</td>\n",
       "      <td>Mailed check</td>\n",
       "      <td>1</td>\n",
       "    </tr>\n",
       "    <tr>\n",
       "      <th>2036</th>\n",
       "      <td>1</td>\n",
       "      <td>69.35</td>\n",
       "      <td>69.35</td>\n",
       "      <td>0</td>\n",
       "      <td>0</td>\n",
       "      <td>0</td>\n",
       "      <td>0</td>\n",
       "      <td>1</td>\n",
       "      <td>No</td>\n",
       "      <td>Fiber optic</td>\n",
       "      <td>No</td>\n",
       "      <td>No</td>\n",
       "      <td>No</td>\n",
       "      <td>No</td>\n",
       "      <td>No</td>\n",
       "      <td>No</td>\n",
       "      <td>Month-to-month</td>\n",
       "      <td>1</td>\n",
       "      <td>Electronic check</td>\n",
       "      <td>1</td>\n",
       "    </tr>\n",
       "    <tr>\n",
       "      <th>2586</th>\n",
       "      <td>1</td>\n",
       "      <td>20.20</td>\n",
       "      <td>20.20</td>\n",
       "      <td>0</td>\n",
       "      <td>0</td>\n",
       "      <td>0</td>\n",
       "      <td>0</td>\n",
       "      <td>1</td>\n",
       "      <td>No</td>\n",
       "      <td>No</td>\n",
       "      <td>No internet service</td>\n",
       "      <td>No internet service</td>\n",
       "      <td>No internet service</td>\n",
       "      <td>No internet service</td>\n",
       "      <td>No internet service</td>\n",
       "      <td>No internet service</td>\n",
       "      <td>Month-to-month</td>\n",
       "      <td>1</td>\n",
       "      <td>Mailed check</td>\n",
       "      <td>1</td>\n",
       "    </tr>\n",
       "    <tr>\n",
       "      <th>2877</th>\n",
       "      <td>1</td>\n",
       "      <td>70.10</td>\n",
       "      <td>70.10</td>\n",
       "      <td>1</td>\n",
       "      <td>0</td>\n",
       "      <td>0</td>\n",
       "      <td>0</td>\n",
       "      <td>1</td>\n",
       "      <td>No</td>\n",
       "      <td>Fiber optic</td>\n",
       "      <td>No</td>\n",
       "      <td>No</td>\n",
       "      <td>No</td>\n",
       "      <td>No</td>\n",
       "      <td>No</td>\n",
       "      <td>No</td>\n",
       "      <td>Month-to-month</td>\n",
       "      <td>1</td>\n",
       "      <td>Electronic check</td>\n",
       "      <td>1</td>\n",
       "    </tr>\n",
       "    <tr>\n",
       "      <th>2991</th>\n",
       "      <td>1</td>\n",
       "      <td>20.90</td>\n",
       "      <td>20.90</td>\n",
       "      <td>1</td>\n",
       "      <td>0</td>\n",
       "      <td>0</td>\n",
       "      <td>0</td>\n",
       "      <td>1</td>\n",
       "      <td>No</td>\n",
       "      <td>No</td>\n",
       "      <td>No internet service</td>\n",
       "      <td>No internet service</td>\n",
       "      <td>No internet service</td>\n",
       "      <td>No internet service</td>\n",
       "      <td>No internet service</td>\n",
       "      <td>No internet service</td>\n",
       "      <td>Month-to-month</td>\n",
       "      <td>0</td>\n",
       "      <td>Mailed check</td>\n",
       "      <td>1</td>\n",
       "    </tr>\n",
       "    <tr>\n",
       "      <th>3660</th>\n",
       "      <td>1</td>\n",
       "      <td>20.45</td>\n",
       "      <td>20.45</td>\n",
       "      <td>0</td>\n",
       "      <td>0</td>\n",
       "      <td>0</td>\n",
       "      <td>0</td>\n",
       "      <td>1</td>\n",
       "      <td>No</td>\n",
       "      <td>No</td>\n",
       "      <td>No internet service</td>\n",
       "      <td>No internet service</td>\n",
       "      <td>No internet service</td>\n",
       "      <td>No internet service</td>\n",
       "      <td>No internet service</td>\n",
       "      <td>No internet service</td>\n",
       "      <td>Month-to-month</td>\n",
       "      <td>0</td>\n",
       "      <td>Mailed check</td>\n",
       "      <td>0</td>\n",
       "    </tr>\n",
       "    <tr>\n",
       "      <th>3749</th>\n",
       "      <td>1</td>\n",
       "      <td>20.20</td>\n",
       "      <td>20.20</td>\n",
       "      <td>0</td>\n",
       "      <td>0</td>\n",
       "      <td>0</td>\n",
       "      <td>0</td>\n",
       "      <td>1</td>\n",
       "      <td>No</td>\n",
       "      <td>No</td>\n",
       "      <td>No internet service</td>\n",
       "      <td>No internet service</td>\n",
       "      <td>No internet service</td>\n",
       "      <td>No internet service</td>\n",
       "      <td>No internet service</td>\n",
       "      <td>No internet service</td>\n",
       "      <td>Month-to-month</td>\n",
       "      <td>0</td>\n",
       "      <td>Mailed check</td>\n",
       "      <td>0</td>\n",
       "    </tr>\n",
       "    <tr>\n",
       "      <th>4276</th>\n",
       "      <td>1</td>\n",
       "      <td>70.15</td>\n",
       "      <td>70.15</td>\n",
       "      <td>1</td>\n",
       "      <td>0</td>\n",
       "      <td>0</td>\n",
       "      <td>0</td>\n",
       "      <td>1</td>\n",
       "      <td>No</td>\n",
       "      <td>Fiber optic</td>\n",
       "      <td>No</td>\n",
       "      <td>No</td>\n",
       "      <td>No</td>\n",
       "      <td>No</td>\n",
       "      <td>No</td>\n",
       "      <td>No</td>\n",
       "      <td>Month-to-month</td>\n",
       "      <td>1</td>\n",
       "      <td>Mailed check</td>\n",
       "      <td>1</td>\n",
       "    </tr>\n",
       "    <tr>\n",
       "      <th>4509</th>\n",
       "      <td>1</td>\n",
       "      <td>69.20</td>\n",
       "      <td>69.20</td>\n",
       "      <td>1</td>\n",
       "      <td>0</td>\n",
       "      <td>0</td>\n",
       "      <td>0</td>\n",
       "      <td>1</td>\n",
       "      <td>No</td>\n",
       "      <td>Fiber optic</td>\n",
       "      <td>No</td>\n",
       "      <td>No</td>\n",
       "      <td>No</td>\n",
       "      <td>No</td>\n",
       "      <td>No</td>\n",
       "      <td>No</td>\n",
       "      <td>Month-to-month</td>\n",
       "      <td>1</td>\n",
       "      <td>Electronic check</td>\n",
       "      <td>1</td>\n",
       "    </tr>\n",
       "    <tr>\n",
       "      <th>4530</th>\n",
       "      <td>1</td>\n",
       "      <td>45.30</td>\n",
       "      <td>45.30</td>\n",
       "      <td>0</td>\n",
       "      <td>0</td>\n",
       "      <td>0</td>\n",
       "      <td>0</td>\n",
       "      <td>1</td>\n",
       "      <td>No</td>\n",
       "      <td>DSL</td>\n",
       "      <td>No</td>\n",
       "      <td>No</td>\n",
       "      <td>No</td>\n",
       "      <td>No</td>\n",
       "      <td>No</td>\n",
       "      <td>No</td>\n",
       "      <td>Month-to-month</td>\n",
       "      <td>0</td>\n",
       "      <td>Electronic check</td>\n",
       "      <td>1</td>\n",
       "    </tr>\n",
       "    <tr>\n",
       "      <th>5041</th>\n",
       "      <td>1</td>\n",
       "      <td>69.60</td>\n",
       "      <td>69.60</td>\n",
       "      <td>1</td>\n",
       "      <td>1</td>\n",
       "      <td>0</td>\n",
       "      <td>0</td>\n",
       "      <td>1</td>\n",
       "      <td>No</td>\n",
       "      <td>Fiber optic</td>\n",
       "      <td>No</td>\n",
       "      <td>No</td>\n",
       "      <td>No</td>\n",
       "      <td>No</td>\n",
       "      <td>No</td>\n",
       "      <td>No</td>\n",
       "      <td>Month-to-month</td>\n",
       "      <td>1</td>\n",
       "      <td>Electronic check</td>\n",
       "      <td>1</td>\n",
       "    </tr>\n",
       "  </tbody>\n",
       "</table>\n",
       "</div>"
      ],
      "text/plain": [
       "      ClientPeriod  MonthlySpending  ...     PaymentMethod  Churn\n",
       "1384             1            69.90  ...  Electronic check      1\n",
       "1474             1            20.05  ...      Mailed check      0\n",
       "1636             1            19.65  ...      Mailed check      0\n",
       "1959             1            45.70  ...      Mailed check      1\n",
       "2036             1            69.35  ...  Electronic check      1\n",
       "2586             1            20.20  ...      Mailed check      1\n",
       "2877             1            70.10  ...  Electronic check      1\n",
       "2991             1            20.90  ...      Mailed check      1\n",
       "3660             1            20.45  ...      Mailed check      0\n",
       "3749             1            20.20  ...      Mailed check      0\n",
       "4276             1            70.15  ...      Mailed check      1\n",
       "4509             1            69.20  ...  Electronic check      1\n",
       "4530             1            45.30  ...  Electronic check      1\n",
       "5041             1            69.60  ...  Electronic check      1\n",
       "\n",
       "[14 rows x 20 columns]"
      ]
     },
     "execution_count": 15,
     "metadata": {
      "tags": []
     },
     "output_type": "execute_result"
    }
   ],
   "source": [
    "print(f'The number of all duplicates is {data.duplicated(keep=False).sum()} with {data.duplicated().sum()} unique ones'  )\n",
    "data[data.duplicated()]"
   ]
  },
  {
   "cell_type": "markdown",
   "metadata": {
    "id": "e-zfk4rzzRB0"
   },
   "source": [
    "All these customers have signed the contract a month ago and haven't spent too much. Also, we don't know their real ID's. So, we can't be absolutely sure whether they are duplicates or not.  \n",
    "Let's take a little risk and delete these rows.\n",
    "_____\n",
    "*Note for future experiments:*  \n",
    "In the future, we can return to this issue and make rough probability estimation of the occurence of duplicated records. "
   ]
  },
  {
   "cell_type": "code",
   "execution_count": 16,
   "metadata": {
    "executionInfo": {
     "elapsed": 13373,
     "status": "ok",
     "timestamp": 1605557756234,
     "user": {
      "displayName": "Denis Pushkarev",
      "photoUrl": "",
      "userId": "00841803113250791635"
     },
     "user_tz": -120
    },
    "id": "MjAMKdbZYbSz"
   },
   "outputs": [],
   "source": [
    "data.drop_duplicates(inplace = True)\n",
    "data.reset_index(inplace = True, drop = True)"
   ]
  },
  {
   "cell_type": "markdown",
   "metadata": {
    "id": "Z9Ztfi4yYbTX"
   },
   "source": [
    "## 2. Exploratory data analysis <a name = \"eda\"></a>"
   ]
  },
  {
   "cell_type": "code",
   "execution_count": 17,
   "metadata": {
    "colab": {
     "base_uri": "https://localhost:8080/"
    },
    "executionInfo": {
     "elapsed": 13347,
     "status": "ok",
     "timestamp": 1605557756239,
     "user": {
      "displayName": "Denis Pushkarev",
      "photoUrl": "",
      "userId": "00841803113250791635"
     },
     "user_tz": -120
    },
    "id": "iF7MR41SzRCV",
    "outputId": "1c34d6e0-259d-44d9-e913-6952e6c24058"
   },
   "outputs": [
    {
     "data": {
      "text/plain": [
       "0    0.73918\n",
       "1    0.26082\n",
       "Name: Churn, dtype: float64"
      ]
     },
     "execution_count": 17,
     "metadata": {
      "tags": []
     },
     "output_type": "execute_result"
    }
   ],
   "source": [
    "data['Churn'].value_counts(normalize = True)"
   ]
  },
  {
   "cell_type": "markdown",
   "metadata": {
    "id": "Ta_uKLZPzRCp"
   },
   "source": [
    "The churn rate is 0.26, so we can consider train dataset as slightly imbalanced. However, this imbalance rate is quite convenient for us, especially in comparison to some other datasets. "
   ]
  },
  {
   "cell_type": "markdown",
   "metadata": {
    "id": "YbbcoS0ezRCr"
   },
   "source": [
    "### 2.2 Numeric features analysis <a name = \"num_eda\"></a>\n",
    "Let's start with the obvious – correlation."
   ]
  },
  {
   "cell_type": "code",
   "execution_count": 18,
   "metadata": {
    "colab": {
     "base_uri": "https://localhost:8080/",
     "height": 136
    },
    "executionInfo": {
     "elapsed": 13301,
     "status": "ok",
     "timestamp": 1605557756242,
     "user": {
      "displayName": "Denis Pushkarev",
      "photoUrl": "",
      "userId": "00841803113250791635"
     },
     "user_tz": -120
    },
    "id": "ELkb6q7aYbTZ",
    "outputId": "ae6cf368-dbec-4c65-a436-829c39abdbb5"
   },
   "outputs": [
    {
     "data": {
      "text/html": [
       "<div>\n",
       "<style scoped>\n",
       "    .dataframe tbody tr th:only-of-type {\n",
       "        vertical-align: middle;\n",
       "    }\n",
       "\n",
       "    .dataframe tbody tr th {\n",
       "        vertical-align: top;\n",
       "    }\n",
       "\n",
       "    .dataframe thead th {\n",
       "        text-align: right;\n",
       "    }\n",
       "</style>\n",
       "<table border=\"1\" class=\"dataframe\">\n",
       "  <thead>\n",
       "    <tr style=\"text-align: right;\">\n",
       "      <th></th>\n",
       "      <th>ClientPeriod</th>\n",
       "      <th>MonthlySpending</th>\n",
       "      <th>TotalSpent</th>\n",
       "    </tr>\n",
       "  </thead>\n",
       "  <tbody>\n",
       "    <tr>\n",
       "      <th>ClientPeriod</th>\n",
       "      <td>1.000000</td>\n",
       "      <td>0.248047</td>\n",
       "      <td>0.826167</td>\n",
       "    </tr>\n",
       "    <tr>\n",
       "      <th>MonthlySpending</th>\n",
       "      <td>0.248047</td>\n",
       "      <td>1.000000</td>\n",
       "      <td>0.651984</td>\n",
       "    </tr>\n",
       "    <tr>\n",
       "      <th>TotalSpent</th>\n",
       "      <td>0.826167</td>\n",
       "      <td>0.651984</td>\n",
       "      <td>1.000000</td>\n",
       "    </tr>\n",
       "  </tbody>\n",
       "</table>\n",
       "</div>"
      ],
      "text/plain": [
       "                 ClientPeriod  MonthlySpending  TotalSpent\n",
       "ClientPeriod         1.000000         0.248047    0.826167\n",
       "MonthlySpending      0.248047         1.000000    0.651984\n",
       "TotalSpent           0.826167         0.651984    1.000000"
      ]
     },
     "execution_count": 18,
     "metadata": {
      "tags": []
     },
     "output_type": "execute_result"
    }
   ],
   "source": [
    "data[num_feats].corr()"
   ]
  },
  {
   "cell_type": "markdown",
   "metadata": {
    "id": "3yZGxsp8YbTp"
   },
   "source": [
    "There's nothing strange about strong positive correlation between features `ClientPeriod` and `TotalSpent`. Fortunately, this relationship isn't perfect direct lineal."
   ]
  },
  {
   "cell_type": "code",
   "execution_count": 19,
   "metadata": {
    "colab": {
     "base_uri": "https://localhost:8080/",
     "height": 906
    },
    "executionInfo": {
     "elapsed": 14973,
     "status": "ok",
     "timestamp": 1605557757955,
     "user": {
      "displayName": "Denis Pushkarev",
      "photoUrl": "",
      "userId": "00841803113250791635"
     },
     "user_tz": -120
    },
    "id": "umSkAQy7YbTr",
    "outputId": "d397d7c5-dddf-46ac-b14c-f7d9d90d0980"
   },
   "outputs": [
    {
     "data": {
      "image/png": "[encoded data removed]",
      "text/plain": [
       "<Figure size 864x864 with 6 Axes>"
      ]
     },
     "metadata": {
      "needs_background": "light",
      "tags": []
     },
     "output_type": "display_data"
    }
   ],
   "source": [
    "fig, axes = plt.subplots(nrows=len(num_feats), ncols=2, figsize=(12, 4 * len(num_feats)))\n",
    "n_bins = 1 + int(np.floor(np.log2(len(data)))) # A variant of Sturges' rule \n",
    "\n",
    "for i, feat in enumerate(num_feats):\n",
    "    ax1 = axes[i][0]\n",
    "    ax2 = axes[i][1]\n",
    "    sns.distplot(data[data['Churn'] == 0][feat], bins=n_bins, ax=ax1, label='No churn')\n",
    "    sns.distplot(data[data['Churn'] == 1][feat], bins=n_bins, ax=ax1, label='Churn')\n",
    "    sns.boxplot(x='Churn', y=feat, data=data, ax=ax2)\n",
    "    ax1.legend()\n",
    "    ax1.set_xlabel(feat, fontsize=12)\n",
    "    ax2.set_xlabel('Churn', fontsize=12)\n",
    "fig.suptitle('Numeric variables distributions', y=1.025, fontsize=16)    \n",
    "fig.tight_layout(h_pad=2, w_pad=4)"
   ]
  },
  {
   "cell_type": "markdown",
   "metadata": {
    "id": "S7ty3CNuYbT9"
   },
   "source": [
    "The distribution of `TotalSpent` has a long \"tail\" of values, but overall, distributions look good.   \n",
    "Let's check if numeric variables in test dataset have similar distributions.\n",
    "_____\n",
    "*Notes for future experiments:*  \n",
    "1. `TotalSpent` values lying outside the \"whiskers\" may affect some models negatively. To deal with the outliers we can try to transform values using nonlinear function like as square root.  \n",
    "2. The latest seaborn update has completely overhauled distribution module. For instance, distplot() is now deprecated, and I have to adapt my code in nearest future."
   ]
  },
  {
   "cell_type": "code",
   "execution_count": 20,
   "metadata": {
    "colab": {
     "base_uri": "https://localhost:8080/",
     "height": 369
    },
    "executionInfo": {
     "elapsed": 16280,
     "status": "ok",
     "timestamp": 1605557759302,
     "user": {
      "displayName": "Denis Pushkarev",
      "photoUrl": "",
      "userId": "00841803113250791635"
     },
     "user_tz": -120
    },
    "id": "u6ETyGvZYbUA",
    "outputId": "944f811a-fa40-48ef-b0c4-bcc130574374"
   },
   "outputs": [
    {
     "data": {
      "image/png": "[encoded data removed]",
      "text/plain": [
       "<Figure size 1080x360 with 3 Axes>"
      ]
     },
     "metadata": {
      "needs_background": "light",
      "tags": []
     },
     "output_type": "display_data"
    }
   ],
   "source": [
    "fig, axes = plt.subplots(nrows=1, ncols=3, figsize=(15, 5))\n",
    "for i, feat in enumerate(num_feats):\n",
    "    ax = axes.ravel()[i]\n",
    "    sns.distplot(data[feat], hist=False, ax=ax, label='Train dataset')\n",
    "    sns.distplot(test_data[feat], hist=False, ax=ax, label='Test dataset')\n",
    "    ax.legend()\n",
    "    ax.set_xlabel(feat, fontsize = 12)\n",
    "fig.tight_layout()"
   ]
  },
  {
   "cell_type": "markdown",
   "metadata": {
    "id": "pAOJ4Ij0YbUS"
   },
   "source": [
    "Distributions are almost identical."
   ]
  },
  {
   "cell_type": "markdown",
   "metadata": {
    "id": "Vr-Oofm2YbUY"
   },
   "source": [
    "### 2.2 Categorical features analysis <a name = \"cat_eda\"></a>\n",
    "Let's take a look at categorical features and draw barplots for them. Since `Churn` variable takes values 0 and 1, the height of bar will represent not only `Churn` mean value for each of categories, but also actual churn rate. Furthermore, seaborn barplots automatically draw confidence intervals around estimated mean value. It will help us not to overestimate mean values for small groups.  \n",
    "Additionally, let's print churn rate and total number of customers over every bar."
   ]
  },
  {
   "cell_type": "code",
   "execution_count": 21,
   "metadata": {
    "colab": {
     "base_uri": "https://localhost:8080/",
     "height": 1000
    },
    "executionInfo": {
     "elapsed": 20384,
     "status": "ok",
     "timestamp": 1605557763442,
     "user": {
      "displayName": "Denis Pushkarev",
      "photoUrl": "",
      "userId": "00841803113250791635"
     },
     "user_tz": -120
    },
    "id": "FtoT1rf3YbUb",
    "outputId": "000ad341-265a-499c-f4fc-243ba1c74cf4",
    "scrolled": false
   },
   "outputs": [
    {
     "data": {
      "image/png": "[encoded data removed]",
      "text/plain": [
       "<Figure size 864x2304 with 16 Axes>"
      ]
     },
     "metadata": {
      "needs_background": "light",
      "tags": []
     },
     "output_type": "display_data"
    }
   ],
   "source": [
    "discr_feats = bin_feats + cat_feats\n",
    "fig, axes = plt.subplots(nrows=int(len(discr_feats) / 2), ncols=2, figsize=(12, 2 * len(discr_feats)))\n",
    "\n",
    "for i, feat in enumerate(discr_feats):\n",
    "    ax = axes.ravel()[i]\n",
    "    sns.barplot(data[feat], data['Churn'], ax=ax, order=sorted(data[feat].unique()))\n",
    "    ax.set_xticklabels(ax.get_xticklabels(), rotation=45)\n",
    "    ax.set_xlabel(feat, fontsize=12)\n",
    "    for j, cat in enumerate(sorted(data[feat].unique())):\n",
    "        churn = [round(data[data[feat] == cat]['Churn'].mean(), 3), data[data[feat] == cat]['Churn'].count()]\n",
    "        ax.text(x=j, y=0.01, s=f'{churn[0]}\\n({churn[1]})', horizontalalignment='center')\n",
    "fig.tight_layout(h_pad=2, w_pad=4)"
   ]
  },
  {
   "cell_type": "markdown",
   "metadata": {
    "id": "9DX68kZ0YbVa"
   },
   "source": [
    "In general, all features are good in the sense that every category has enough objects.  \n",
    "It's obvious that some features like `Sex` or `HasPhoneService` have the slightest influence on churn rate. On the other hand, features like `HasContractPhone`, `HasInternetService` or `PaymentMethod` may be very useful for predictions, because these features have churn rate varying from category to category.  \n",
    "It's interesting to estimate the power of dependence between churn and different features, but first we need to check test dataset. We can do it this way: get array with frequency distribution for every feature using ***.value_counts()***, calculate difference between train and test datasets and print a warning if difference for any category is above 5%."
   ]
  },
  {
   "cell_type": "code",
   "execution_count": 22,
   "metadata": {
    "colab": {
     "base_uri": "https://localhost:8080/"
    },
    "executionInfo": {
     "elapsed": 20352,
     "status": "ok",
     "timestamp": 1605557763445,
     "user": {
      "displayName": "Denis Pushkarev",
      "photoUrl": "",
      "userId": "00841803113250791635"
     },
     "user_tz": -120
    },
    "id": "a52Q2pl3YbVc",
    "outputId": "481a665f-4da8-45ed-93fd-2c06fbccceea"
   },
   "outputs": [
    {
     "name": "stdout",
     "output_type": "stream",
     "text": [
      "There is no serious difference in categorical variables distribution between datasets\n"
     ]
    }
   ],
   "source": [
    "susp_feats = []\n",
    "for feat in discr_feats:\n",
    "    diff = np.array(data[feat].value_counts(normalize=True)) - np.array(test_data[feat].value_counts(normalize=True))\n",
    "    if (abs(diff) > 0.05).sum():\n",
    "        print(f'Feature {feat} looks suspicious')\n",
    "        susp_feats.append(feat)\n",
    "if len(susp_feats) == 0:\n",
    "    print('There is no serious difference in categorical variables distribution between datasets')"
   ]
  },
  {
   "cell_type": "markdown",
   "metadata": {
    "id": "wey7TmxAYbVr"
   },
   "source": [
    "Now, we estimate correlation between churn and every categorical feature using contingency tables and Cramer's V coefficient. In the case of binary features it is equal to Pearson's phi coefficient (in fact, Matthews correlation coefficient).\n",
    "The basic idea is as follows: \n",
    "\n",
    "1. Let's test the null hypothesis $H_0$, which states that categorical features $X_1$ and $X_2$ are independent. \n",
    "2. The statement that the null hypothesis $H_0$ is wrong – is the alternative hypothesis $H_1$. \n",
    "3. Create contingency table of features and calculate the chi-square statistic.\n",
    "4. Under the null hypothesis the statistic has to follow chi-square distribution: \n",
    "\n",
    "$$\\chi^2 (X_1^n, X_2^n) \\sim \\chi^2_{(K_1-1)(K_2-1)}$$\n",
    "$K_1$, $K_2$ – number of rows and columns \n",
    "\n",
    "Besides, we should follow several requirements:\n",
    "1. Size of the sample should be above 40;\n",
    "2. No more than 20% of the cells have expected frequencies below 5  $^1$    \n",
    "\n",
    "\n",
    "$$\\frac{n_{i+}n_{j+}}{n} < 5 $$   \n",
    "\n",
    "\n",
    "It's obvious that the first requirement is not a problem, but the second one should be controlled.  \n",
    "Cramer's V is computed using the following formula:  \n",
    "\n",
    "$$\\phi_c(X^n_1, X^n_2) = \\sqrt{\\frac{\\chi^2 (X_1^n, X_2^n)}{n(min(K_1, K_2)-1)}}$$ \n",
    "\n",
    "*************\n",
    "$^1)$  In the case of 2x2 contingency tables the requirement applies to every cell."
   ]
  },
  {
   "cell_type": "code",
   "execution_count": 23,
   "metadata": {
    "executionInfo": {
     "elapsed": 20349,
     "status": "ok",
     "timestamp": 1605557763454,
     "user": {
      "displayName": "Denis Pushkarev",
      "photoUrl": "",
      "userId": "00841803113250791635"
     },
     "user_tz": -120
    },
    "id": "wHJxFO1AYbVt"
   },
   "outputs": [],
   "source": [
    "corr_churn = {}\n",
    "for feat in discr_feats:\n",
    "    crosstab = pd.crosstab(data[feat], data['Churn'])\n",
    "    expected_crosstab = sts.chi2_contingency(crosstab)[3]\n",
    "    if crosstab.shape == (2, 2):\n",
    "        if (expected_crosstab < 5).any():\n",
    "            print(f'Houston, we have a problem with feature {feat}, which takes {data[feat].nunique()} unique values')\n",
    "            continue\n",
    "    else:\n",
    "        if (expected_crosstab < 5).sum() > (crosstab.size / 5):\n",
    "            print(f'Houston, we have a problem with feature {feat}, which takes {data[feat].nunique()} unique values')\n",
    "            continue\n",
    "    corr_churn[feat] = [sts.chi2_contingency(crosstab)[1], \n",
    "                               np.sqrt(sts.chi2_contingency(crosstab)[0]/len(data)), data[feat].nunique()]"
   ]
  },
  {
   "cell_type": "code",
   "execution_count": 24,
   "metadata": {
    "colab": {
     "base_uri": "https://localhost:8080/",
     "height": 521
    },
    "executionInfo": {
     "elapsed": 20917,
     "status": "ok",
     "timestamp": 1605557764063,
     "user": {
      "displayName": "Denis Pushkarev",
      "photoUrl": "",
      "userId": "00841803113250791635"
     },
     "user_tz": -120
    },
    "id": "IFLnWr_4YbV8",
    "outputId": "8749e541-fb95-4bca-8afc-ec0ecea4091f"
   },
   "outputs": [
    {
     "data": {
      "text/html": [
       "<div>\n",
       "<style scoped>\n",
       "    .dataframe tbody tr th:only-of-type {\n",
       "        vertical-align: middle;\n",
       "    }\n",
       "\n",
       "    .dataframe tbody tr th {\n",
       "        vertical-align: top;\n",
       "    }\n",
       "\n",
       "    .dataframe thead th {\n",
       "        text-align: right;\n",
       "    }\n",
       "</style>\n",
       "<table border=\"1\" class=\"dataframe\">\n",
       "  <thead>\n",
       "    <tr style=\"text-align: right;\">\n",
       "      <th></th>\n",
       "      <th>p-value</th>\n",
       "      <th>V Kramer</th>\n",
       "      <th>n_unique</th>\n",
       "    </tr>\n",
       "  </thead>\n",
       "  <tbody>\n",
       "    <tr>\n",
       "      <th>Sex</th>\n",
       "      <td>5.768736e-01</td>\n",
       "      <td>0.007687</td>\n",
       "      <td>2</td>\n",
       "    </tr>\n",
       "    <tr>\n",
       "      <th>HasPartner</th>\n",
       "      <td>3.483619e-26</td>\n",
       "      <td>0.145842</td>\n",
       "      <td>2</td>\n",
       "    </tr>\n",
       "    <tr>\n",
       "      <th>HasChild</th>\n",
       "      <td>7.091785e-32</td>\n",
       "      <td>0.161883</td>\n",
       "      <td>2</td>\n",
       "    </tr>\n",
       "    <tr>\n",
       "      <th>HasPhoneService</th>\n",
       "      <td>5.019845e-01</td>\n",
       "      <td>0.009250</td>\n",
       "      <td>2</td>\n",
       "    </tr>\n",
       "    <tr>\n",
       "      <th>IsBillingPaperless</th>\n",
       "      <td>2.239194e-44</td>\n",
       "      <td>0.192533</td>\n",
       "      <td>2</td>\n",
       "    </tr>\n",
       "    <tr>\n",
       "      <th>IsSeniorCitizen</th>\n",
       "      <td>3.863437e-30</td>\n",
       "      <td>0.157161</td>\n",
       "      <td>2</td>\n",
       "    </tr>\n",
       "    <tr>\n",
       "      <th>HasMultiplePhoneNumbers</th>\n",
       "      <td>9.299536e-03</td>\n",
       "      <td>0.042142</td>\n",
       "      <td>3</td>\n",
       "    </tr>\n",
       "    <tr>\n",
       "      <th>HasInternetService</th>\n",
       "      <td>7.273794e-115</td>\n",
       "      <td>0.315875</td>\n",
       "      <td>3</td>\n",
       "    </tr>\n",
       "    <tr>\n",
       "      <th>HasOnlineSecurityService</th>\n",
       "      <td>1.926033e-145</td>\n",
       "      <td>0.355678</td>\n",
       "      <td>3</td>\n",
       "    </tr>\n",
       "    <tr>\n",
       "      <th>HasOnlineBackup</th>\n",
       "      <td>1.808861e-99</td>\n",
       "      <td>0.293800</td>\n",
       "      <td>3</td>\n",
       "    </tr>\n",
       "    <tr>\n",
       "      <th>HasDeviceProtection</th>\n",
       "      <td>2.357400e-91</td>\n",
       "      <td>0.281469</td>\n",
       "      <td>3</td>\n",
       "    </tr>\n",
       "    <tr>\n",
       "      <th>HasTechSupportAccess</th>\n",
       "      <td>1.452566e-134</td>\n",
       "      <td>0.342050</td>\n",
       "      <td>3</td>\n",
       "    </tr>\n",
       "    <tr>\n",
       "      <th>HasOnlineTV</th>\n",
       "      <td>2.818168e-61</td>\n",
       "      <td>0.230068</td>\n",
       "      <td>3</td>\n",
       "    </tr>\n",
       "    <tr>\n",
       "      <th>HasMovieSubscription</th>\n",
       "      <td>2.892569e-62</td>\n",
       "      <td>0.231939</td>\n",
       "      <td>3</td>\n",
       "    </tr>\n",
       "    <tr>\n",
       "      <th>HasContractPhone</th>\n",
       "      <td>7.250332e-191</td>\n",
       "      <td>0.407696</td>\n",
       "      <td>3</td>\n",
       "    </tr>\n",
       "    <tr>\n",
       "      <th>PaymentMethod</th>\n",
       "      <td>4.739912e-101</td>\n",
       "      <td>0.297965</td>\n",
       "      <td>4</td>\n",
       "    </tr>\n",
       "  </tbody>\n",
       "</table>\n",
       "</div>"
      ],
      "text/plain": [
       "                                p-value  V Kramer  n_unique\n",
       "Sex                        5.768736e-01  0.007687         2\n",
       "HasPartner                 3.483619e-26  0.145842         2\n",
       "HasChild                   7.091785e-32  0.161883         2\n",
       "HasPhoneService            5.019845e-01  0.009250         2\n",
       "IsBillingPaperless         2.239194e-44  0.192533         2\n",
       "IsSeniorCitizen            3.863437e-30  0.157161         2\n",
       "HasMultiplePhoneNumbers    9.299536e-03  0.042142         3\n",
       "HasInternetService        7.273794e-115  0.315875         3\n",
       "HasOnlineSecurityService  1.926033e-145  0.355678         3\n",
       "HasOnlineBackup            1.808861e-99  0.293800         3\n",
       "HasDeviceProtection        2.357400e-91  0.281469         3\n",
       "HasTechSupportAccess      1.452566e-134  0.342050         3\n",
       "HasOnlineTV                2.818168e-61  0.230068         3\n",
       "HasMovieSubscription       2.892569e-62  0.231939         3\n",
       "HasContractPhone          7.250332e-191  0.407696         3\n",
       "PaymentMethod             4.739912e-101  0.297965         4"
      ]
     },
     "execution_count": 24,
     "metadata": {
      "tags": []
     },
     "output_type": "execute_result"
    }
   ],
   "source": [
    "corr_churn = pd.DataFrame.from_dict(corr_churn, orient='index', columns=['p-value', 'V Kramer', 'n_unique'])\n",
    "corr_churn"
   ]
  },
  {
   "cell_type": "markdown",
   "metadata": {
    "id": "aYtIdz-yYbWK"
   },
   "source": [
    "Additionally, we use simple Bonferroni correction to counteract the problem of multiple comparisons."
   ]
  },
  {
   "cell_type": "code",
   "execution_count": 25,
   "metadata": {
    "colab": {
     "base_uri": "https://localhost:8080/",
     "height": 521
    },
    "executionInfo": {
     "elapsed": 20879,
     "status": "ok",
     "timestamp": 1605557764070,
     "user": {
      "displayName": "Denis Pushkarev",
      "photoUrl": "",
      "userId": "00841803113250791635"
     },
     "user_tz": -120
    },
    "id": "Eps6M44cYbWP",
    "outputId": "e4433ef5-edc7-4484-9e53-71a658abc523"
   },
   "outputs": [
    {
     "data": {
      "text/html": [
       "<div>\n",
       "<style scoped>\n",
       "    .dataframe tbody tr th:only-of-type {\n",
       "        vertical-align: middle;\n",
       "    }\n",
       "\n",
       "    .dataframe tbody tr th {\n",
       "        vertical-align: top;\n",
       "    }\n",
       "\n",
       "    .dataframe thead th {\n",
       "        text-align: right;\n",
       "    }\n",
       "</style>\n",
       "<table border=\"1\" class=\"dataframe\">\n",
       "  <thead>\n",
       "    <tr style=\"text-align: right;\">\n",
       "      <th></th>\n",
       "      <th>p-value</th>\n",
       "      <th>V Kramer</th>\n",
       "      <th>n_unique</th>\n",
       "      <th>p-value &lt; 0.05</th>\n",
       "    </tr>\n",
       "  </thead>\n",
       "  <tbody>\n",
       "    <tr>\n",
       "      <th>Sex</th>\n",
       "      <td>9.229978e+00</td>\n",
       "      <td>0.007687</td>\n",
       "      <td>2</td>\n",
       "      <td>No</td>\n",
       "    </tr>\n",
       "    <tr>\n",
       "      <th>HasPartner</th>\n",
       "      <td>5.573790e-25</td>\n",
       "      <td>0.145842</td>\n",
       "      <td>2</td>\n",
       "      <td>Yes</td>\n",
       "    </tr>\n",
       "    <tr>\n",
       "      <th>HasChild</th>\n",
       "      <td>1.134686e-30</td>\n",
       "      <td>0.161883</td>\n",
       "      <td>2</td>\n",
       "      <td>Yes</td>\n",
       "    </tr>\n",
       "    <tr>\n",
       "      <th>HasPhoneService</th>\n",
       "      <td>8.031751e+00</td>\n",
       "      <td>0.009250</td>\n",
       "      <td>2</td>\n",
       "      <td>No</td>\n",
       "    </tr>\n",
       "    <tr>\n",
       "      <th>IsBillingPaperless</th>\n",
       "      <td>3.582710e-43</td>\n",
       "      <td>0.192533</td>\n",
       "      <td>2</td>\n",
       "      <td>Yes</td>\n",
       "    </tr>\n",
       "    <tr>\n",
       "      <th>IsSeniorCitizen</th>\n",
       "      <td>6.181499e-29</td>\n",
       "      <td>0.157161</td>\n",
       "      <td>2</td>\n",
       "      <td>Yes</td>\n",
       "    </tr>\n",
       "    <tr>\n",
       "      <th>HasMultiplePhoneNumbers</th>\n",
       "      <td>1.487926e-01</td>\n",
       "      <td>0.042142</td>\n",
       "      <td>3</td>\n",
       "      <td>No</td>\n",
       "    </tr>\n",
       "    <tr>\n",
       "      <th>HasInternetService</th>\n",
       "      <td>1.163807e-113</td>\n",
       "      <td>0.315875</td>\n",
       "      <td>3</td>\n",
       "      <td>Yes</td>\n",
       "    </tr>\n",
       "    <tr>\n",
       "      <th>HasOnlineSecurityService</th>\n",
       "      <td>3.081652e-144</td>\n",
       "      <td>0.355678</td>\n",
       "      <td>3</td>\n",
       "      <td>Yes</td>\n",
       "    </tr>\n",
       "    <tr>\n",
       "      <th>HasOnlineBackup</th>\n",
       "      <td>2.894178e-98</td>\n",
       "      <td>0.293800</td>\n",
       "      <td>3</td>\n",
       "      <td>Yes</td>\n",
       "    </tr>\n",
       "    <tr>\n",
       "      <th>HasDeviceProtection</th>\n",
       "      <td>3.771840e-90</td>\n",
       "      <td>0.281469</td>\n",
       "      <td>3</td>\n",
       "      <td>Yes</td>\n",
       "    </tr>\n",
       "    <tr>\n",
       "      <th>HasTechSupportAccess</th>\n",
       "      <td>2.324105e-133</td>\n",
       "      <td>0.342050</td>\n",
       "      <td>3</td>\n",
       "      <td>Yes</td>\n",
       "    </tr>\n",
       "    <tr>\n",
       "      <th>HasOnlineTV</th>\n",
       "      <td>4.509068e-60</td>\n",
       "      <td>0.230068</td>\n",
       "      <td>3</td>\n",
       "      <td>Yes</td>\n",
       "    </tr>\n",
       "    <tr>\n",
       "      <th>HasMovieSubscription</th>\n",
       "      <td>4.628111e-61</td>\n",
       "      <td>0.231939</td>\n",
       "      <td>3</td>\n",
       "      <td>Yes</td>\n",
       "    </tr>\n",
       "    <tr>\n",
       "      <th>HasContractPhone</th>\n",
       "      <td>1.160053e-189</td>\n",
       "      <td>0.407696</td>\n",
       "      <td>3</td>\n",
       "      <td>Yes</td>\n",
       "    </tr>\n",
       "    <tr>\n",
       "      <th>PaymentMethod</th>\n",
       "      <td>7.583859e-100</td>\n",
       "      <td>0.297965</td>\n",
       "      <td>4</td>\n",
       "      <td>Yes</td>\n",
       "    </tr>\n",
       "  </tbody>\n",
       "</table>\n",
       "</div>"
      ],
      "text/plain": [
       "                                p-value  V Kramer  n_unique p-value < 0.05\n",
       "Sex                        9.229978e+00  0.007687         2             No\n",
       "HasPartner                 5.573790e-25  0.145842         2            Yes\n",
       "HasChild                   1.134686e-30  0.161883         2            Yes\n",
       "HasPhoneService            8.031751e+00  0.009250         2             No\n",
       "IsBillingPaperless         3.582710e-43  0.192533         2            Yes\n",
       "IsSeniorCitizen            6.181499e-29  0.157161         2            Yes\n",
       "HasMultiplePhoneNumbers    1.487926e-01  0.042142         3             No\n",
       "HasInternetService        1.163807e-113  0.315875         3            Yes\n",
       "HasOnlineSecurityService  3.081652e-144  0.355678         3            Yes\n",
       "HasOnlineBackup            2.894178e-98  0.293800         3            Yes\n",
       "HasDeviceProtection        3.771840e-90  0.281469         3            Yes\n",
       "HasTechSupportAccess      2.324105e-133  0.342050         3            Yes\n",
       "HasOnlineTV                4.509068e-60  0.230068         3            Yes\n",
       "HasMovieSubscription       4.628111e-61  0.231939         3            Yes\n",
       "HasContractPhone          1.160053e-189  0.407696         3            Yes\n",
       "PaymentMethod             7.583859e-100  0.297965         4            Yes"
      ]
     },
     "execution_count": 25,
     "metadata": {
      "tags": []
     },
     "output_type": "execute_result"
    }
   ],
   "source": [
    "corr_churn['p-value'] = corr_churn['p-value'].apply(lambda x: x * len(corr_churn))\n",
    "corr_churn['p-value < 0.05'] = corr_churn['p-value'].apply(lambda x: 'Yes' if x < 0.05 else 'No')\n",
    "corr_churn"
   ]
  },
  {
   "cell_type": "markdown",
   "metadata": {
    "id": "f7TMdXHgYbWr"
   },
   "source": [
    "Computations prove our conclusions of barplots above. We see three features which have weak relation with churn – `Sex`, `HasPhoneService` and `HasMultiplePhoneNumbers`.\n",
    "Other features seem to be more useful. For example, relation between `HasContractPhone` feature and churn can be described as relatively high.     \n",
    "Now let's estimate the power of relationship between features in the same way."
   ]
  },
  {
   "cell_type": "code",
   "execution_count": 26,
   "metadata": {
    "executionInfo": {
     "elapsed": 21801,
     "status": "ok",
     "timestamp": 1605557765003,
     "user": {
      "displayName": "Denis Pushkarev",
      "photoUrl": "",
      "userId": "00841803113250791635"
     },
     "user_tz": -120
    },
    "id": "2uU5K946YbWx"
   },
   "outputs": [],
   "source": [
    "corr_feats = {}\n",
    "for i in itertools.combinations(discr_feats, 2):\n",
    "    feat_1, feat_2 = i[0], i[1]\n",
    "    crosstab = pd.crosstab(data[feat_1], data[feat_2])\n",
    "    expected_crosstab = sts.chi2_contingency(crosstab)[3]\n",
    "    if crosstab.shape == (2, 2):\n",
    "        if (expected_crosstab < 5).any():\n",
    "            print(f'Houston, we have a problem with features {feat_1} and {feat_2}, which take \\\n",
    "            {data[feat_1].nunique()} and {data[feat_2].nunique()} unique values')\n",
    "            continue\n",
    "    else:\n",
    "        if (expected_crosstab < 5).sum() > (crosstab.size / 5):\n",
    "            print(f'Houston, we have a problem with features {feat_1} and {feat_2}, which take \\\n",
    "            {data[feat_1].nunique()} and {data[feat_2].nunique()} unique values')\n",
    "            continue\n",
    "    corr_feats[i] = np.sqrt(sts.chi2_contingency(crosstab)[0] / (len(data) * (min(crosstab.shape) - 1)))"
   ]
  },
  {
   "cell_type": "code",
   "execution_count": 27,
   "metadata": {
    "colab": {
     "base_uri": "https://localhost:8080/"
    },
    "executionInfo": {
     "elapsed": 21776,
     "status": "ok",
     "timestamp": 1605557765005,
     "user": {
      "displayName": "Denis Pushkarev",
      "photoUrl": "",
      "userId": "00841803113250791635"
     },
     "user_tz": -120
    },
    "id": "oOZGEULVYbXB",
    "outputId": "1ddd4deb-cd53-40ee-c9d2-7c47f3744070"
   },
   "outputs": [
    {
     "data": {
      "text/plain": [
       "[(('HasPhoneService', 'HasMultiplePhoneNumbers'), 1.0),\n",
       " (('HasOnlineTV', 'HasMovieSubscription'), 0.774921899034679),\n",
       " (('HasDeviceProtection', 'HasMovieSubscription'), 0.7368766619725051),\n",
       " (('HasDeviceProtection', 'HasOnlineTV'), 0.7340283256273878),\n",
       " (('HasOnlineSecurityService', 'HasTechSupportAccess'), 0.7318582215136185),\n",
       " (('HasDeviceProtection', 'HasTechSupportAccess'), 0.7264667346718243),\n",
       " (('HasInternetService', 'HasOnlineSecurityService'), 0.7251399358190986),\n",
       " (('HasInternetService', 'HasTechSupportAccess'), 0.7242455132556386),\n",
       " (('HasOnlineBackup', 'HasDeviceProtection'), 0.7191420606416546),\n",
       " (('HasOnlineBackup', 'HasTechSupportAccess'), 0.7189669252773574)]"
      ]
     },
     "execution_count": 27,
     "metadata": {
      "tags": []
     },
     "output_type": "execute_result"
    }
   ],
   "source": [
    "sorted_corr_feats = sorted(corr_feats.items(), key = lambda x: abs(x[1]), reverse = True)\n",
    "sorted_corr_feats[:10]"
   ]
  },
  {
   "cell_type": "markdown",
   "metadata": {
    "id": "ZrHqgHT9YbXP"
   },
   "source": [
    "Bingo! One of `HasPhoneService` and `HasMultiplePhoneNumbers` features is completely determined by another one. Indeed, we can see even on barplots that `HasMultiplePhoneNumbers` categories cover `HasPhoneService` categories perfectly. Let's delete this feature because it doesn't contain any additional valuable information."
   ]
  },
  {
   "cell_type": "code",
   "execution_count": 28,
   "metadata": {
    "executionInfo": {
     "elapsed": 21770,
     "status": "ok",
     "timestamp": 1605557765009,
     "user": {
      "displayName": "Denis Pushkarev",
      "photoUrl": "",
      "userId": "00841803113250791635"
     },
     "user_tz": -120
    },
    "id": "7Eyz1gSPYbXR"
   },
   "outputs": [],
   "source": [
    "for feat_list in (bin_feats, discr_feats, all_feats):\n",
    "    feat_list.remove('HasPhoneService')"
   ]
  },
  {
   "cell_type": "markdown",
   "metadata": {
    "id": "DviiJd8REEZK"
   },
   "source": [
    "## 3. Logistic Regression <a name = \"logreg\"></a>\n",
    "Our training dataset is relatively small, that's why we use simple cross-validation scheme without holdout-dataset. Of course, we build a little pipeline with transformers and classifier to avoid data leakages. \n",
    "_____\n",
    "*Notes for future experiments:*  \n",
    "1. I'm pretty interested in other validation schemes. In this subject, articles by Sebastian Raschka may be valuable source of information for me. Also, it's interesting to estimate the optimal number of folds.  \n",
    "2. Initial preprocessing transformers in this pipeline are very simple. It may be sense to try various ones, for example, encoders from category_encoders module."
   ]
  },
  {
   "cell_type": "code",
   "execution_count": 29,
   "metadata": {
    "executionInfo": {
     "elapsed": 21761,
     "status": "ok",
     "timestamp": 1605557765012,
     "user": {
      "displayName": "Denis Pushkarev",
      "photoUrl": "",
      "userId": "00841803113250791635"
     },
     "user_tz": -120
    },
    "id": "_t802Gc7YbZa"
   },
   "outputs": [],
   "source": [
    "train_labels = data['Churn'].to_numpy()\n",
    "train_data = data.drop('Churn', axis=1)\n",
    "\n",
    "cv_split = model_selection.StratifiedKFold(n_splits=4, shuffle=True, random_state=42)\n",
    "scoring = ['roc_auc', 'accuracy', 'precision', 'recall', 'f1', 'average_precision']\n",
    "clf_results = pd.DataFrame()\n",
    "\n",
    "num_transformer = pipeline.Pipeline(steps = [('scaler', preprocessing.MinMaxScaler())])\n",
    "cat_transformer = pipeline.Pipeline(steps = [('encoder', preprocessing.OneHotEncoder(handle_unknown='ignore'))])\n",
    "\n",
    "preprocessor = compose.ColumnTransformer(transformers = [('num', num_transformer, num_feats + bin_feats), \n",
    "                                                        ('cat', cat_transformer, cat_feats)],\n",
    "                                         remainder='drop')"
   ]
  },
  {
   "cell_type": "code",
   "execution_count": 30,
   "metadata": {
    "executionInfo": {
     "elapsed": 21756,
     "status": "ok",
     "timestamp": 1605557765014,
     "user": {
      "displayName": "Denis Pushkarev",
      "photoUrl": "",
      "userId": "00841803113250791635"
     },
     "user_tz": -120
    },
    "id": "Kx43WR68YbZp"
   },
   "outputs": [],
   "source": [
    "def cross_val_results(name, estimator):\n",
    "    results = model_selection.cross_validate(estimator, train_data, train_labels, \n",
    "                                             scoring=scoring, cv=cv_split, n_jobs=-1)\n",
    "    print('Metrics on all folds:')\n",
    "    for metric in list(results.keys())[2:]:\n",
    "        clf_results.loc[name, metric] = np.mean(results[metric])\n",
    "        print(f'{metric}: {results[metric]}')"
   ]
  },
  {
   "cell_type": "code",
   "execution_count": 31,
   "metadata": {
    "colab": {
     "base_uri": "https://localhost:8080/",
     "height": 194
    },
    "executionInfo": {
     "elapsed": 23176,
     "status": "ok",
     "timestamp": 1605557766469,
     "user": {
      "displayName": "Denis Pushkarev",
      "photoUrl": "",
      "userId": "00841803113250791635"
     },
     "user_tz": -120
    },
    "id": "R58X4XfEYbZ2",
    "outputId": "8eba234e-936f-411a-9ee5-f0cab0cb8c9f"
   },
   "outputs": [
    {
     "name": "stdout",
     "output_type": "stream",
     "text": [
      "Metrics on all folds:\n",
      "test_roc_auc: [0.86013613 0.81951886 0.85275849 0.84211202]\n",
      "test_accuracy: [0.75778284 0.73044799 0.74411541 0.7365224 ]\n",
      "test_precision: [0.52264151 0.4887218  0.50604491 0.49731664]\n",
      "test_recall: [0.80758017 0.75801749 0.85174419 0.80813953]\n",
      "test_f1: [0.63459336 0.59428571 0.63488624 0.61572536]\n",
      "test_average_precision: [0.6783399  0.61064909 0.64571061 0.65879593]\n"
     ]
    },
    {
     "data": {
      "text/html": [
       "<div>\n",
       "<style scoped>\n",
       "    .dataframe tbody tr th:only-of-type {\n",
       "        vertical-align: middle;\n",
       "    }\n",
       "\n",
       "    .dataframe tbody tr th {\n",
       "        vertical-align: top;\n",
       "    }\n",
       "\n",
       "    .dataframe thead th {\n",
       "        text-align: right;\n",
       "    }\n",
       "</style>\n",
       "<table border=\"1\" class=\"dataframe\">\n",
       "  <thead>\n",
       "    <tr style=\"text-align: right;\">\n",
       "      <th></th>\n",
       "      <th>test_roc_auc</th>\n",
       "      <th>test_accuracy</th>\n",
       "      <th>test_precision</th>\n",
       "      <th>test_recall</th>\n",
       "      <th>test_f1</th>\n",
       "      <th>test_average_precision</th>\n",
       "    </tr>\n",
       "  </thead>\n",
       "  <tbody>\n",
       "    <tr>\n",
       "      <th>log_bsln</th>\n",
       "      <td>0.843631</td>\n",
       "      <td>0.742217</td>\n",
       "      <td>0.503681</td>\n",
       "      <td>0.80637</td>\n",
       "      <td>0.619873</td>\n",
       "      <td>0.648374</td>\n",
       "    </tr>\n",
       "  </tbody>\n",
       "</table>\n",
       "</div>"
      ],
      "text/plain": [
       "          test_roc_auc  test_accuracy  ...   test_f1  test_average_precision\n",
       "log_bsln      0.843631       0.742217  ...  0.619873                0.648374\n",
       "\n",
       "[1 rows x 6 columns]"
      ]
     },
     "execution_count": 31,
     "metadata": {
      "tags": []
     },
     "output_type": "execute_result"
    }
   ],
   "source": [
    "log_clf = linear_model.LogisticRegression(solver='lbfgs', class_weight='balanced', \n",
    "                                          max_iter=1000, random_state=42, n_jobs=-1)\n",
    "log_estimator = pipeline.Pipeline(steps = [('preprocessor', preprocessor), ('classifier', log_clf)])\n",
    "cross_val_results('log_bsln', log_estimator)\n",
    "clf_results"
   ]
  },
  {
   "cell_type": "markdown",
   "metadata": {
    "id": "8R5YLgguYbaG"
   },
   "source": [
    "Let's start with **C** hyperparameter tuning."
   ]
  },
  {
   "cell_type": "code",
   "execution_count": 32,
   "metadata": {
    "executionInfo": {
     "elapsed": 23170,
     "status": "ok",
     "timestamp": 1605557766472,
     "user": {
      "displayName": "Denis Pushkarev",
      "photoUrl": "",
      "userId": "00841803113250791635"
     },
     "user_tz": -120
    },
    "id": "oq6_Jb2gYbaI"
   },
   "outputs": [],
   "source": [
    "def plot_validation_curves(model, **hyperparams):\n",
    "    n_rows = (len(hyperparams) - 1) // 2 + 1\n",
    "    n_cols = (int(len(hyperparams) > 1) + 1)\n",
    "    fig, axes = plt.subplots(nrows=n_rows, ncols=n_cols, figsize=(6 * n_cols, 4 * n_rows), squeeze=False)\n",
    "    i = 0\n",
    "    for param, param_range in hyperparams.items():\n",
    "        train_scores, test_scores = model_selection.validation_curve(model,\n",
    "                        train_data, train_labels, param_name=param, param_range=param_range,\n",
    "                        cv=cv_split, scoring='roc_auc', n_jobs=-1)\n",
    "        ax = axes.ravel()[i]\n",
    "        ax.plot(param_range, train_scores.mean(axis=1), 'g-', marker='o', label='train_score')\n",
    "        ax.plot(param_range, test_scores.mean(axis=1), 'r-', marker='o', label='val_score')\n",
    "        ax.legend()\n",
    "        ax.grid()\n",
    "        ax.set_xlabel(param, fontsize=12)\n",
    "        ax.set_ylabel('AUC-ROC score', fontsize=12)\n",
    "        print(f'{param}:\\ntrain scores: {train_scores.mean(axis=1)}\\ntest scores: {test_scores.mean(axis=1)}\\n')\n",
    "        i += 1 \n",
    "    fig.tight_layout(h_pad=2, w_pad=4)"
   ]
  },
  {
   "cell_type": "code",
   "execution_count": 33,
   "metadata": {
    "colab": {
     "base_uri": "https://localhost:8080/",
     "height": 498
    },
    "executionInfo": {
     "elapsed": 33689,
     "status": "ok",
     "timestamp": 1605557777029,
     "user": {
      "displayName": "Denis Pushkarev",
      "photoUrl": "",
      "userId": "00841803113250791635"
     },
     "user_tz": -120
    },
    "id": "seroed-DYbaW",
    "outputId": "1eeb8523-63b9-4d60-c543-af6a4d2e4680"
   },
   "outputs": [
    {
     "name": "stdout",
     "output_type": "stream",
     "text": [
      "classifier__C:\n",
      "train scores: [0.82963925 0.83217184 0.83462907 0.83691478 0.8390361  0.84094631\n",
      " 0.84256255 0.84383331 0.84475976 0.84545694 0.84595435 0.84643431\n",
      " 0.84689328 0.84734625 0.84772523 0.84803882 0.84827699 0.84845576\n",
      " 0.84860845 0.84872459 0.84879754 0.84883816 0.84887472 0.8489121\n",
      " 0.84893005]\n",
      "test scores: [0.82784235 0.83006017 0.83220823 0.83421508 0.83619727 0.83793215\n",
      " 0.83922672 0.84033056 0.84117879 0.84174159 0.84210555 0.84251139\n",
      " 0.84283285 0.84326423 0.8435282  0.84377945 0.84395827 0.84411756\n",
      " 0.84420887 0.84427102 0.84427187 0.84426594 0.84423912 0.84423616\n",
      " 0.84420408]\n",
      "\n"
     ]
    },
    {
     "data": {
      "image/png": "[encoded data removed]",
      "text/plain": [
       "<Figure size 432x288 with 1 Axes>"
      ]
     },
     "metadata": {
      "needs_background": "light",
      "tags": []
     },
     "output_type": "display_data"
    }
   ],
   "source": [
    "plot_validation_curves(log_estimator, classifier__C=np.logspace(-3, 2, 25))"
   ]
  },
  {
   "cell_type": "markdown",
   "metadata": {
    "id": "CEcokvltYbat"
   },
   "source": [
    "С ~ 10 seems to be optimal value for our model. Now let's go to gridsearch and, just for sport, let's try to search over C values, optimization solvers and penalty types."
   ]
  },
  {
   "cell_type": "code",
   "execution_count": 34,
   "metadata": {
    "colab": {
     "base_uri": "https://localhost:8080/"
    },
    "executionInfo": {
     "elapsed": 76104,
     "status": "ok",
     "timestamp": 1605557819475,
     "user": {
      "displayName": "Denis Pushkarev",
      "photoUrl": "",
      "userId": "00841803113250791635"
     },
     "user_tz": -120
    },
    "id": "j3QWpvtSYbaw",
    "outputId": "594cca1d-826d-476f-cecb-0db04b599b4f"
   },
   "outputs": [
    {
     "name": "stdout",
     "output_type": "stream",
     "text": [
      "Best score is 0.8442823238241057 with the following parameters:\n",
      "{'classifier__C': 13, 'classifier__penalty': 'l2', 'classifier__solver': 'lbfgs'}\n",
      "CPU times: user 1.6 s, sys: 65.3 ms, total: 1.66 s\n",
      "Wall time: 43.1 s\n"
     ]
    }
   ],
   "source": [
    "%%time\n",
    "log_parameters_grid = [\n",
    "    {'classifier__penalty': ['l1'], 'classifier__solver': ['liblinear', 'saga'], 'classifier__C': np.arange(1, 16, 3)},\n",
    "    {'classifier__penalty': ['l2'], 'classifier__solver': ['newton-cg', 'sag', 'saga', 'lbfgs', 'liblinear'], \n",
    "     'classifier__C': np.arange(1, 16, 3)},\n",
    "    {'classifier__penalty': ['elasticnet'], 'classifier__solver': ['saga'], 'classifier__C': np.arange(1, 16, 3)}\n",
    "]\n",
    "\n",
    "log_grid_cv = model_selection.GridSearchCV(log_estimator, log_parameters_grid, scoring='roc_auc', cv=cv_split, n_jobs=-1)\n",
    "log_grid_cv.fit(train_data, train_labels)\n",
    "log_estimator = log_grid_cv.best_estimator_\n",
    "\n",
    "print(f'Best score is {log_grid_cv.best_score_} with the following parameters:\\n{log_grid_cv.best_params_}')"
   ]
  },
  {
   "cell_type": "code",
   "execution_count": 35,
   "metadata": {
    "colab": {
     "base_uri": "https://localhost:8080/",
     "height": 224
    },
    "executionInfo": {
     "elapsed": 76557,
     "status": "ok",
     "timestamp": 1605557819965,
     "user": {
      "displayName": "Denis Pushkarev",
      "photoUrl": "",
      "userId": "00841803113250791635"
     },
     "user_tz": -120
    },
    "id": "ABeE0jBMYba8",
    "outputId": "3eb3d727-3186-4da1-fc3e-92787b658eba"
   },
   "outputs": [
    {
     "name": "stdout",
     "output_type": "stream",
     "text": [
      "Metrics on all folds:\n",
      "test_roc_auc: [0.86095031 0.82111428 0.85187714 0.84318758]\n",
      "test_accuracy: [0.75702354 0.73044799 0.74259681 0.7357631 ]\n",
      "test_precision: [0.52141527 0.48867925 0.50430293 0.49641577]\n",
      "test_recall: [0.81632653 0.75510204 0.85174419 0.80523256]\n",
      "test_f1: [0.63636364 0.59335624 0.63351351 0.61419069]\n",
      "test_average_precision: [0.682458   0.61494535 0.64415171 0.65697365]\n"
     ]
    },
    {
     "data": {
      "text/html": [
       "<div>\n",
       "<style scoped>\n",
       "    .dataframe tbody tr th:only-of-type {\n",
       "        vertical-align: middle;\n",
       "    }\n",
       "\n",
       "    .dataframe tbody tr th {\n",
       "        vertical-align: top;\n",
       "    }\n",
       "\n",
       "    .dataframe thead th {\n",
       "        text-align: right;\n",
       "    }\n",
       "</style>\n",
       "<table border=\"1\" class=\"dataframe\">\n",
       "  <thead>\n",
       "    <tr style=\"text-align: right;\">\n",
       "      <th></th>\n",
       "      <th>test_roc_auc</th>\n",
       "      <th>test_accuracy</th>\n",
       "      <th>test_precision</th>\n",
       "      <th>test_recall</th>\n",
       "      <th>test_f1</th>\n",
       "      <th>test_average_precision</th>\n",
       "    </tr>\n",
       "  </thead>\n",
       "  <tbody>\n",
       "    <tr>\n",
       "      <th>log_bsln</th>\n",
       "      <td>0.843631</td>\n",
       "      <td>0.742217</td>\n",
       "      <td>0.503681</td>\n",
       "      <td>0.806370</td>\n",
       "      <td>0.619873</td>\n",
       "      <td>0.648374</td>\n",
       "    </tr>\n",
       "    <tr>\n",
       "      <th>log_bsln + grid_search</th>\n",
       "      <td>0.844282</td>\n",
       "      <td>0.741458</td>\n",
       "      <td>0.502703</td>\n",
       "      <td>0.807101</td>\n",
       "      <td>0.619356</td>\n",
       "      <td>0.649632</td>\n",
       "    </tr>\n",
       "  </tbody>\n",
       "</table>\n",
       "</div>"
      ],
      "text/plain": [
       "                        test_roc_auc  ...  test_average_precision\n",
       "log_bsln                    0.843631  ...                0.648374\n",
       "log_bsln + grid_search      0.844282  ...                0.649632\n",
       "\n",
       "[2 rows x 6 columns]"
      ]
     },
     "execution_count": 35,
     "metadata": {
      "tags": []
     },
     "output_type": "execute_result"
    }
   ],
   "source": [
    "cross_val_results('log_bsln + grid_search', log_estimator)\n",
    "clf_results"
   ]
  },
  {
   "cell_type": "code",
   "execution_count": 36,
   "metadata": {
    "executionInfo": {
     "elapsed": 76563,
     "status": "ok",
     "timestamp": 1605557819982,
     "user": {
      "displayName": "Denis Pushkarev",
      "photoUrl": "",
      "userId": "00841803113250791635"
     },
     "user_tz": -120
    },
    "id": "-7Uj0ps-7eTZ"
   },
   "outputs": [],
   "source": [
    "def final_score(name, estimator):\n",
    "    estimator.fit(train_data, train_labels)\n",
    "    submission = pd.read_csv('./submission.csv')\n",
    "    submission['Churn'] = estimator.predict_proba(test_data)[:, 1]\n",
    "    submission.to_csv(name + '_answers.csv', index=False)"
   ]
  },
  {
   "cell_type": "code",
   "execution_count": 37,
   "metadata": {
    "executionInfo": {
     "elapsed": 76835,
     "status": "ok",
     "timestamp": 1605557820267,
     "user": {
      "displayName": "Denis Pushkarev",
      "photoUrl": "",
      "userId": "00841803113250791635"
     },
     "user_tz": -120
    },
    "id": "YzX-_0F47pr0"
   },
   "outputs": [],
   "source": [
    "final_score('log', log_estimator)"
   ]
  },
  {
   "cell_type": "markdown",
   "metadata": {
    "id": "36cc4dxhYbb_"
   },
   "source": [
    "Logistic regression predictions on kaggle-test: $AUC - ROC = 0.84597$, pretty close to our results."
   ]
  },
  {
   "cell_type": "markdown",
   "metadata": {
    "id": "eJlGGBtEYbcC"
   },
   "source": [
    "## 4. Random Forest <a name = \"rnd\"></a>"
   ]
  },
  {
   "cell_type": "code",
   "execution_count": 38,
   "metadata": {
    "colab": {
     "base_uri": "https://localhost:8080/",
     "height": 254
    },
    "executionInfo": {
     "elapsed": 78964,
     "status": "ok",
     "timestamp": 1605557822435,
     "user": {
      "displayName": "Denis Pushkarev",
      "photoUrl": "",
      "userId": "00841803113250791635"
     },
     "user_tz": -120
    },
    "id": "5ZN2cYIwYbcK",
    "outputId": "b8dfe826-cd01-40f7-ed38-c5d82e984fc1"
   },
   "outputs": [
    {
     "name": "stdout",
     "output_type": "stream",
     "text": [
      "Metrics on all folds:\n",
      "test_roc_auc: [0.84797445 0.82100502 0.85668425 0.83356288]\n",
      "test_accuracy: [0.78359909 0.76309795 0.79422931 0.78359909]\n",
      "test_precision: [0.57142857 0.5368171  0.58165548 0.57074341]\n",
      "test_recall: [0.67638484 0.65889213 0.75581395 0.69186047]\n",
      "test_f1: [0.61949266 0.59162304 0.6573957  0.62549277]\n",
      "test_average_precision: [0.64676645 0.60593321 0.67674738 0.64670954]\n"
     ]
    },
    {
     "data": {
      "text/html": [
       "<div>\n",
       "<style scoped>\n",
       "    .dataframe tbody tr th:only-of-type {\n",
       "        vertical-align: middle;\n",
       "    }\n",
       "\n",
       "    .dataframe tbody tr th {\n",
       "        vertical-align: top;\n",
       "    }\n",
       "\n",
       "    .dataframe thead th {\n",
       "        text-align: right;\n",
       "    }\n",
       "</style>\n",
       "<table border=\"1\" class=\"dataframe\">\n",
       "  <thead>\n",
       "    <tr style=\"text-align: right;\">\n",
       "      <th></th>\n",
       "      <th>test_roc_auc</th>\n",
       "      <th>test_accuracy</th>\n",
       "      <th>test_precision</th>\n",
       "      <th>test_recall</th>\n",
       "      <th>test_f1</th>\n",
       "      <th>test_average_precision</th>\n",
       "    </tr>\n",
       "  </thead>\n",
       "  <tbody>\n",
       "    <tr>\n",
       "      <th>log_bsln</th>\n",
       "      <td>0.843631</td>\n",
       "      <td>0.742217</td>\n",
       "      <td>0.503681</td>\n",
       "      <td>0.806370</td>\n",
       "      <td>0.619873</td>\n",
       "      <td>0.648374</td>\n",
       "    </tr>\n",
       "    <tr>\n",
       "      <th>log_bsln + grid_search</th>\n",
       "      <td>0.844282</td>\n",
       "      <td>0.741458</td>\n",
       "      <td>0.502703</td>\n",
       "      <td>0.807101</td>\n",
       "      <td>0.619356</td>\n",
       "      <td>0.649632</td>\n",
       "    </tr>\n",
       "    <tr>\n",
       "      <th>rnd_bsln</th>\n",
       "      <td>0.839807</td>\n",
       "      <td>0.781131</td>\n",
       "      <td>0.565161</td>\n",
       "      <td>0.695738</td>\n",
       "      <td>0.623501</td>\n",
       "      <td>0.644039</td>\n",
       "    </tr>\n",
       "  </tbody>\n",
       "</table>\n",
       "</div>"
      ],
      "text/plain": [
       "                        test_roc_auc  ...  test_average_precision\n",
       "log_bsln                    0.843631  ...                0.648374\n",
       "log_bsln + grid_search      0.844282  ...                0.649632\n",
       "rnd_bsln                    0.839807  ...                0.644039\n",
       "\n",
       "[3 rows x 6 columns]"
      ]
     },
     "execution_count": 38,
     "metadata": {
      "tags": []
     },
     "output_type": "execute_result"
    }
   ],
   "source": [
    "rnd_clf = RandomForestClassifier(n_estimators=100, class_weight='balanced', \n",
    "                                 max_depth=10, random_state=42, n_jobs=-1)\n",
    "rnd_estimator = pipeline.Pipeline(steps = [('preprocessor', preprocessor), ('classifier', rnd_clf)])\n",
    "cross_val_results('rnd_bsln', rnd_estimator)\n",
    "clf_results"
   ]
  },
  {
   "cell_type": "markdown",
   "metadata": {
    "id": "nFDSPielYbcY"
   },
   "source": [
    "The score is a little discouraging, but perhaps, we've chosen bad initial parameters."
   ]
  },
  {
   "cell_type": "code",
   "execution_count": 39,
   "metadata": {
    "colab": {
     "base_uri": "https://localhost:8080/",
     "height": 1000
    },
    "executionInfo": {
     "elapsed": 224772,
     "status": "ok",
     "timestamp": 1605557968284,
     "user": {
      "displayName": "Denis Pushkarev",
      "photoUrl": "",
      "userId": "00841803113250791635"
     },
     "user_tz": -120
    },
    "id": "D00S96OWYbca",
    "outputId": "15be9ec5-ca27-40f2-abfb-9bc07e03de6a"
   },
   "outputs": [
    {
     "name": "stdout",
     "output_type": "stream",
     "text": [
      "classifier__n_estimators:\n",
      "train scores: [0.94883759 0.9519956  0.9532148  0.95387837 0.9542846  0.95441677\n",
      " 0.95430824 0.95497843 0.95548302 0.95518774]\n",
      "test scores: [0.8289252  0.83229038 0.83637199 0.83734271 0.83745627 0.83784969\n",
      " 0.83840722 0.83893305 0.8395217  0.83980665]\n",
      "\n",
      "classifier__max_depth:\n",
      "train scores: [0.83610109 0.85096797 0.87444575 0.91277895 0.95518774 0.98298805\n",
      " 0.99590981 0.99952528 0.99992782 0.99996627 0.99996843 0.99996669\n",
      " 0.99996777 0.99996694 0.99996685 0.99996685 0.99996685 0.99996685\n",
      " 0.99996685 0.99996685 0.99996685 0.99996685 0.99996685 0.99996685\n",
      " 0.99996685]\n",
      "test scores: [0.83130834 0.83955044 0.84322768 0.84345461 0.83980665 0.83522666\n",
      " 0.83043601 0.82537349 0.81922672 0.81854443 0.81758    0.81872188\n",
      " 0.81805202 0.81830872 0.81818249 0.81818249 0.81818249 0.81818249\n",
      " 0.81818249 0.81818249 0.81818249 0.81818249 0.81818249 0.81818249\n",
      " 0.81818249]\n",
      "\n",
      "classifier__min_samples_leaf:\n",
      "train scores: [0.94491033 0.92793718 0.91507451 0.90578768 0.89773939 0.89259792\n",
      " 0.88796803 0.88375567 0.88050361 0.8774709  0.87542241 0.87316058\n",
      " 0.8711929  0.86995169 0.86854505 0.8672253  0.86609482 0.86496215\n",
      " 0.86373189 0.86320839 0.86221566 0.86109378 0.86049278 0.85972734\n",
      " 0.85941747]\n",
      "test scores: [0.84117373 0.84258183 0.84273801 0.84410597 0.84389273 0.84480324\n",
      " 0.84441986 0.84480946 0.84441238 0.84503837 0.84478825 0.84440897\n",
      " 0.84491412 0.8441546  0.84456491 0.8447408  0.84403455 0.84382008\n",
      " 0.84405898 0.84363541 0.84336159 0.84300691 0.84279095 0.84283147\n",
      " 0.84328253]\n",
      "\n",
      "classifier__min_samples_split:\n",
      "train scores: [0.89414737 0.88325534 0.87605508 0.8699859  0.86662771 0.86327841\n",
      " 0.86118625 0.85876208 0.85713353 0.85534166 0.85390201 0.85255926\n",
      " 0.85149031 0.85016132 0.84906515 0.84782197 0.84744082 0.84698713\n",
      " 0.84655251 0.84609281]\n",
      "test scores: [0.84400308 0.8442774  0.84429736 0.84434372 0.84335412 0.84345397\n",
      " 0.84298315 0.8427721  0.84285222 0.84227269 0.84068374 0.84085165\n",
      " 0.84022003 0.83915027 0.8384114  0.83758577 0.83747435 0.83774508\n",
      " 0.83725536 0.83759476]\n",
      "\n",
      "CPU times: user 3.65 s, sys: 249 ms, total: 3.9 s\n",
      "Wall time: 2min 25s\n"
     ]
    },
    {
     "data": {
      "image/png": "[encoded data removed]",
      "text/plain": [
       "<Figure size 864x576 with 4 Axes>"
      ]
     },
     "metadata": {
      "needs_background": "light",
      "tags": []
     },
     "output_type": "display_data"
    }
   ],
   "source": [
    "%%time\n",
    "plot_validation_curves(rnd_estimator, \n",
    "                       classifier__n_estimators = np.linspace(10, 100, 10, dtype=int),\n",
    "                       classifier__max_depth = np.linspace(2, 50, 25, dtype=int),\n",
    "                       classifier__min_samples_leaf = np.linspace(2, 50, 25, dtype=int),\n",
    "                       classifier__min_samples_split = np.linspace(0.01, 0.1, 20))"
   ]
  },
  {
   "cell_type": "code",
   "execution_count": 40,
   "metadata": {
    "colab": {
     "base_uri": "https://localhost:8080/"
    },
    "executionInfo": {
     "elapsed": 1337596,
     "status": "ok",
     "timestamp": 1605559081136,
     "user": {
      "displayName": "Denis Pushkarev",
      "photoUrl": "",
      "userId": "00841803113250791635"
     },
     "user_tz": -120
    },
    "id": "sBGMpf6WYbcq",
    "outputId": "d6d717a3-11c6-4173-cd22-686e800e8207"
   },
   "outputs": [
    {
     "name": "stdout",
     "output_type": "stream",
     "text": [
      "Best score is 0.8453980210852148 with the following parameters:\n",
      "{'classifier__max_depth': 8, 'classifier__min_samples_leaf': 30, 'classifier__min_samples_split': 0.01, 'classifier__n_estimators': 80}\n",
      "CPU times: user 41.6 s, sys: 1.59 s, total: 43.2 s\n",
      "Wall time: 18min 32s\n"
     ]
    }
   ],
   "source": [
    "%%time\n",
    "rnd_estimator.set_params(classifier__n_estimators = 100, classifier__max_depth = 4,\n",
    "                        classifier__min_samples_leaf = 50, classifier__min_samples_split = 0.04)\n",
    "rnd_parameters_grid = {\n",
    "    'classifier__max_depth': np.arange(2, 9, 2, dtype=int),\n",
    "    'classifier__n_estimators': np.arange(60, 141, 10, dtype=int),\n",
    "    'classifier__min_samples_split': np.arange(0.01, 0.051, 0.01),\n",
    "    'classifier__min_samples_leaf': np.arange(20, 61, 10)\n",
    "}   \n",
    "\n",
    "rnd_grid_cv = model_selection.GridSearchCV(rnd_estimator, rnd_parameters_grid, scoring='roc_auc', cv=cv_split, n_jobs=-1)\n",
    "rnd_grid_cv.fit(train_data, train_labels)\n",
    "\n",
    "print(f'Best score is {rnd_grid_cv.best_score_} with the following parameters:\\n{rnd_grid_cv.best_params_}')"
   ]
  },
  {
   "cell_type": "code",
   "execution_count": 41,
   "metadata": {
    "colab": {
     "base_uri": "https://localhost:8080/",
     "height": 283
    },
    "executionInfo": {
     "elapsed": 1341318,
     "status": "ok",
     "timestamp": 1605559084950,
     "user": {
      "displayName": "Denis Pushkarev",
      "photoUrl": "",
      "userId": "00841803113250791635"
     },
     "user_tz": -120
    },
    "id": "jrXlJxD-YbdD",
    "outputId": "6d24cef1-c89f-40be-fe87-52a2c28b51a9"
   },
   "outputs": [
    {
     "name": "stdout",
     "output_type": "stream",
     "text": [
      "Metrics on all folds:\n",
      "test_roc_auc: [0.8585497  0.82629115 0.85886971 0.83788152]\n",
      "test_accuracy: [0.77220957 0.74107821 0.74867122 0.7365224 ]\n",
      "test_precision: [0.54191033 0.502      0.51171171 0.49721707]\n",
      "test_recall: [0.81049563 0.73177843 0.8255814  0.77906977]\n",
      "test_f1: [0.64953271 0.59549229 0.63181313 0.60702152]\n",
      "test_average_precision: [0.65619516 0.61424006 0.68397801 0.6577579 ]\n"
     ]
    },
    {
     "data": {
      "text/html": [
       "<div>\n",
       "<style scoped>\n",
       "    .dataframe tbody tr th:only-of-type {\n",
       "        vertical-align: middle;\n",
       "    }\n",
       "\n",
       "    .dataframe tbody tr th {\n",
       "        vertical-align: top;\n",
       "    }\n",
       "\n",
       "    .dataframe thead th {\n",
       "        text-align: right;\n",
       "    }\n",
       "</style>\n",
       "<table border=\"1\" class=\"dataframe\">\n",
       "  <thead>\n",
       "    <tr style=\"text-align: right;\">\n",
       "      <th></th>\n",
       "      <th>test_roc_auc</th>\n",
       "      <th>test_accuracy</th>\n",
       "      <th>test_precision</th>\n",
       "      <th>test_recall</th>\n",
       "      <th>test_f1</th>\n",
       "      <th>test_average_precision</th>\n",
       "    </tr>\n",
       "  </thead>\n",
       "  <tbody>\n",
       "    <tr>\n",
       "      <th>log_bsln</th>\n",
       "      <td>0.843631</td>\n",
       "      <td>0.742217</td>\n",
       "      <td>0.503681</td>\n",
       "      <td>0.806370</td>\n",
       "      <td>0.619873</td>\n",
       "      <td>0.648374</td>\n",
       "    </tr>\n",
       "    <tr>\n",
       "      <th>log_bsln + grid_search</th>\n",
       "      <td>0.844282</td>\n",
       "      <td>0.741458</td>\n",
       "      <td>0.502703</td>\n",
       "      <td>0.807101</td>\n",
       "      <td>0.619356</td>\n",
       "      <td>0.649632</td>\n",
       "    </tr>\n",
       "    <tr>\n",
       "      <th>rnd_bsln</th>\n",
       "      <td>0.839807</td>\n",
       "      <td>0.781131</td>\n",
       "      <td>0.565161</td>\n",
       "      <td>0.695738</td>\n",
       "      <td>0.623501</td>\n",
       "      <td>0.644039</td>\n",
       "    </tr>\n",
       "    <tr>\n",
       "      <th>rnd_bsln + grid_search</th>\n",
       "      <td>0.845398</td>\n",
       "      <td>0.749620</td>\n",
       "      <td>0.513210</td>\n",
       "      <td>0.786731</td>\n",
       "      <td>0.620965</td>\n",
       "      <td>0.653043</td>\n",
       "    </tr>\n",
       "  </tbody>\n",
       "</table>\n",
       "</div>"
      ],
      "text/plain": [
       "                        test_roc_auc  ...  test_average_precision\n",
       "log_bsln                    0.843631  ...                0.648374\n",
       "log_bsln + grid_search      0.844282  ...                0.649632\n",
       "rnd_bsln                    0.839807  ...                0.644039\n",
       "rnd_bsln + grid_search      0.845398  ...                0.653043\n",
       "\n",
       "[4 rows x 6 columns]"
      ]
     },
     "execution_count": 41,
     "metadata": {
      "tags": []
     },
     "output_type": "execute_result"
    }
   ],
   "source": [
    "rnd_estimator.set_params(classifier__n_estimators = 80, classifier__max_depth = 8, \n",
    "                        classifier__min_samples_split = 0.01, classifier__min_samples_leaf = 30)\n",
    "rnd_results = model_selection.cross_validate(rnd_estimator, train_data, train_labels, scoring=scoring, cv=cv_split)\n",
    "cross_val_results('rnd_bsln + grid_search', rnd_estimator)\n",
    "clf_results    "
   ]
  },
  {
   "cell_type": "code",
   "execution_count": 42,
   "metadata": {
    "executionInfo": {
     "elapsed": 1341988,
     "status": "ok",
     "timestamp": 1605559085628,
     "user": {
      "displayName": "Denis Pushkarev",
      "photoUrl": "",
      "userId": "00841803113250791635"
     },
     "user_tz": -120
    },
    "id": "OIVo2p0PYbdR"
   },
   "outputs": [],
   "source": [
    "final_score('rnd', rnd_estimator)"
   ]
  },
  {
   "cell_type": "markdown",
   "metadata": {
    "id": "WwaRiLWmYbdl"
   },
   "source": [
    "Random forest predictions on kaggle-test: $AUC - ROC = 0.84971$."
   ]
  },
  {
   "cell_type": "markdown",
   "metadata": {
    "id": "BlTeVy7fEEZR"
   },
   "source": [
    "## 5. Gradient Boosting Methods <a name = \"gbm\"></a>"
   ]
  },
  {
   "cell_type": "markdown",
   "metadata": {
    "id": "MuOBpfsrYbdq"
   },
   "source": [
    "### 5.1 XGBoost <a name = \"xgb\"></a>\n"
   ]
  },
  {
   "cell_type": "code",
   "execution_count": 43,
   "metadata": {
    "colab": {
     "base_uri": "https://localhost:8080/",
     "height": 313
    },
    "executionInfo": {
     "elapsed": 1343916,
     "status": "ok",
     "timestamp": 1605559087601,
     "user": {
      "displayName": "Denis Pushkarev",
      "photoUrl": "",
      "userId": "00841803113250791635"
     },
     "user_tz": -120
    },
    "id": "l2fyCNctYbdt",
    "outputId": "04a41167-50ba-45bb-9f29-c9e55acb429e"
   },
   "outputs": [
    {
     "name": "stdout",
     "output_type": "stream",
     "text": [
      "Metrics on all folds:\n",
      "test_roc_auc: [0.85220844 0.82274561 0.8609043  0.83147153]\n",
      "test_accuracy: [0.75702354 0.7350038  0.75702354 0.7342445 ]\n",
      "test_precision: [0.5223301  0.49431818 0.52105263 0.49440299]\n",
      "test_recall: [0.78425656 0.76093294 0.86337209 0.77034884]\n",
      "test_f1: [0.62703963 0.59931114 0.64989059 0.60227273]\n",
      "test_average_precision: [0.65206715 0.61905086 0.68611205 0.65211478]\n"
     ]
    },
    {
     "data": {
      "text/html": [
       "<div>\n",
       "<style scoped>\n",
       "    .dataframe tbody tr th:only-of-type {\n",
       "        vertical-align: middle;\n",
       "    }\n",
       "\n",
       "    .dataframe tbody tr th {\n",
       "        vertical-align: top;\n",
       "    }\n",
       "\n",
       "    .dataframe thead th {\n",
       "        text-align: right;\n",
       "    }\n",
       "</style>\n",
       "<table border=\"1\" class=\"dataframe\">\n",
       "  <thead>\n",
       "    <tr style=\"text-align: right;\">\n",
       "      <th></th>\n",
       "      <th>test_roc_auc</th>\n",
       "      <th>test_accuracy</th>\n",
       "      <th>test_precision</th>\n",
       "      <th>test_recall</th>\n",
       "      <th>test_f1</th>\n",
       "      <th>test_average_precision</th>\n",
       "    </tr>\n",
       "  </thead>\n",
       "  <tbody>\n",
       "    <tr>\n",
       "      <th>log_bsln</th>\n",
       "      <td>0.843631</td>\n",
       "      <td>0.742217</td>\n",
       "      <td>0.503681</td>\n",
       "      <td>0.806370</td>\n",
       "      <td>0.619873</td>\n",
       "      <td>0.648374</td>\n",
       "    </tr>\n",
       "    <tr>\n",
       "      <th>log_bsln + grid_search</th>\n",
       "      <td>0.844282</td>\n",
       "      <td>0.741458</td>\n",
       "      <td>0.502703</td>\n",
       "      <td>0.807101</td>\n",
       "      <td>0.619356</td>\n",
       "      <td>0.649632</td>\n",
       "    </tr>\n",
       "    <tr>\n",
       "      <th>rnd_bsln</th>\n",
       "      <td>0.839807</td>\n",
       "      <td>0.781131</td>\n",
       "      <td>0.565161</td>\n",
       "      <td>0.695738</td>\n",
       "      <td>0.623501</td>\n",
       "      <td>0.644039</td>\n",
       "    </tr>\n",
       "    <tr>\n",
       "      <th>rnd_bsln + grid_search</th>\n",
       "      <td>0.845398</td>\n",
       "      <td>0.749620</td>\n",
       "      <td>0.513210</td>\n",
       "      <td>0.786731</td>\n",
       "      <td>0.620965</td>\n",
       "      <td>0.653043</td>\n",
       "    </tr>\n",
       "    <tr>\n",
       "      <th>xgb_bsln</th>\n",
       "      <td>0.841832</td>\n",
       "      <td>0.745824</td>\n",
       "      <td>0.508026</td>\n",
       "      <td>0.794728</td>\n",
       "      <td>0.619629</td>\n",
       "      <td>0.652336</td>\n",
       "    </tr>\n",
       "  </tbody>\n",
       "</table>\n",
       "</div>"
      ],
      "text/plain": [
       "                        test_roc_auc  ...  test_average_precision\n",
       "log_bsln                    0.843631  ...                0.648374\n",
       "log_bsln + grid_search      0.844282  ...                0.649632\n",
       "rnd_bsln                    0.839807  ...                0.644039\n",
       "rnd_bsln + grid_search      0.845398  ...                0.653043\n",
       "xgb_bsln                    0.841832  ...                0.652336\n",
       "\n",
       "[5 rows x 6 columns]"
      ]
     },
     "execution_count": 43,
     "metadata": {
      "tags": []
     },
     "output_type": "execute_result"
    }
   ],
   "source": [
    "xgb_clf = xgb.XGBClassifier(n_estimators=100, max_depth=4, scale_pos_weight = 1 / train_labels.mean() - 1, \n",
    "                            learning_rate=0.05, random_state=42, n_jobs=-1)\n",
    "xgb_estimator = pipeline.Pipeline(steps = [('preprocessor', preprocessor), ('classifier', xgb_clf)])\n",
    "cross_val_results('xgb_bsln', xgb_estimator)\n",
    "clf_results"
   ]
  },
  {
   "cell_type": "markdown",
   "metadata": {
    "id": "TXjUN5IKYbd7"
   },
   "source": [
    "Not bad for initial parameters. Let's repeat the previous steps."
   ]
  },
  {
   "cell_type": "code",
   "execution_count": 44,
   "metadata": {
    "colab": {
     "base_uri": "https://localhost:8080/",
     "height": 1000
    },
    "executionInfo": {
     "elapsed": 47831,
     "status": "ok",
     "timestamp": 1605559242680,
     "user": {
      "displayName": "Denis Pushkarev",
      "photoUrl": "",
      "userId": "00841803113250791635"
     },
     "user_tz": -120
    },
    "id": "qb7VTGATJvV5",
    "outputId": "92e55257-54ae-4e05-92ac-2e94794a6204"
   },
   "outputs": [
    {
     "name": "stdout",
     "output_type": "stream",
     "text": [
      "classifier__n_estimators:\n",
      "train scores: [0.86275824 0.86428293 0.86679473 0.8693069  0.8714813  0.87356534\n",
      " 0.87537478 0.87736513 0.87911967 0.88089946 0.88239414 0.88397603\n",
      " 0.88557082 0.88689956 0.88809238 0.88937989 0.89042222 0.89147069\n",
      " 0.89267286 0.89382735 0.89492405 0.8958635  0.89726591 0.89819781\n",
      " 0.89907773 0.90016929 0.901268   0.90221535 0.90319188 0.90406689\n",
      " 0.9050413  0.90583441 0.90677935 0.90778087 0.9087373  0.9095988 ]\n",
      "test scores: [0.83811674 0.83932481 0.84037885 0.84104613 0.84166912 0.84215161\n",
      " 0.84226873 0.84254704 0.84275203 0.84267462 0.84267595 0.84251592\n",
      " 0.8423671  0.84227216 0.84215139 0.84183247 0.84166194 0.84156945\n",
      " 0.8414911  0.84134551 0.84121811 0.84125662 0.84110051 0.84104371\n",
      " 0.84076111 0.84061723 0.84019371 0.84014064 0.84000163 0.83988864\n",
      " 0.83970922 0.839554   0.83939173 0.83931328 0.83919698 0.83891977]\n",
      "\n",
      "classifier__max_depth:\n",
      "train scores: [0.85755319 0.87066452 0.88937989 0.91331116 0.93786778 0.96283285\n",
      " 0.98121007 0.99247216 0.99682976]\n",
      "test scores: [0.84624544 0.84584696 0.84183247 0.83969288 0.83719638 0.83115908\n",
      " 0.82833202 0.82460676 0.81999426]\n",
      "\n",
      "classifier__min_child_weight:\n",
      "train scores: [0.88416178 0.88376017 0.88283405 0.88233692 0.88142936 0.88080333\n",
      " 0.88020356 0.88003602 0.8798366  0.87896232 0.87870014]\n",
      "test scores: [0.84311137 0.843682   0.84353376 0.8436488  0.84367431 0.84358928\n",
      " 0.84344792 0.8434592  0.84356728 0.8436515  0.8441727 ]\n",
      "\n",
      "classifier__learning_rate:\n",
      "train scores: [0.8605894  0.86936356 0.87753298 0.88414317 0.88937989 0.89368571\n",
      " 0.89806056 0.90250781 0.90662343 0.91050727]\n",
      "test scores: [0.83722171 0.84087941 0.84267479 0.84329902 0.84183247 0.84210354\n",
      " 0.84174258 0.84068917 0.8400053  0.83939826]\n",
      "\n",
      "CPU times: user 3.08 s, sys: 201 ms, total: 3.28 s\n",
      "Wall time: 2min 32s\n"
     ]
    },
    {
     "data": {
      "image/png": "[encoded data removed]",
      "text/plain": [
       "<Figure size 864x576 with 4 Axes>"
      ]
     },
     "metadata": {
      "needs_background": "light",
      "tags": []
     },
     "output_type": "display_data"
    }
   ],
   "source": [
    "%%time\n",
    "plot_validation_curves(xgb_estimator,\n",
    "                       classifier__n_estimators = np.arange(25, 201, 5, dtype=int),\n",
    "                       classifier__max_depth = np.arange(2, 11, dtype=int),\n",
    "                       classifier__min_child_weight = np.arange(10, 31, 2),\n",
    "                       classifier__learning_rate = np.arange(0.01, 0.11, 0.01))"
   ]
  },
  {
   "cell_type": "code",
   "execution_count": 47,
   "metadata": {
    "colab": {
     "base_uri": "https://localhost:8080/"
    },
    "executionInfo": {
     "elapsed": 680855,
     "status": "ok",
     "timestamp": 1605560860536,
     "user": {
      "displayName": "Denis Pushkarev",
      "photoUrl": "",
      "userId": "00841803113250791635"
     },
     "user_tz": -120
    },
    "id": "7Hb8jAzbYbd-",
    "outputId": "2882a4f7-b5b8-4505-84c0-5fda2c5bfc40"
   },
   "outputs": [
    {
     "name": "stdout",
     "output_type": "stream",
     "text": [
      "Best score is 0.8478866611879663 with the following parameters:\n",
      "{'classifier__n_estimators': 200, 'classifier__min_child_weight': 20, 'classifier__max_depth': 2, 'classifier__learning_rate': 0.04}\n",
      "CPU times: user 17.6 s, sys: 761 ms, total: 18.3 s\n",
      "Wall time: 11min 19s\n"
     ]
    }
   ],
   "source": [
    "%%time\n",
    "xgb_estimator.set_params(classifier__n_estimators = 60, classifier__max_depth = 2,\n",
    "                        classifier__min_child_weight = 30, classifier__learning_rate = 0.02)\n",
    "xgb_parameters_grid = {\n",
    "    'classifier__max_depth': np.arange(2, 6, dtype=int),\n",
    "    'classifier__n_estimators': np.arange(50, 201, 25, dtype=int),\n",
    "    'classifier__min_child_weight': np.arange(20, 41, 10),\n",
    "    'classifier__learning_rate': np.arange(0.01, 0.051, 0.01)\n",
    "}   \n",
    "\n",
    "xgb_grid_cv = model_selection.RandomizedSearchCV(xgb_estimator, xgb_parameters_grid, n_iter=300,\n",
    "                                                 scoring='roc_auc', cv=cv_split, n_jobs=-1)\n",
    "xgb_grid_cv.fit(train_data, train_labels)\n",
    "\n",
    "print(f'Best score is {xgb_grid_cv.best_score_} with the following parameters:\\n{xgb_grid_cv.best_params_}')"
   ]
  },
  {
   "cell_type": "code",
   "execution_count": 48,
   "metadata": {
    "colab": {
     "base_uri": "https://localhost:8080/",
     "height": 342
    },
    "executionInfo": {
     "elapsed": 3096,
     "status": "ok",
     "timestamp": 1605560891062,
     "user": {
      "displayName": "Denis Pushkarev",
      "photoUrl": "",
      "userId": "00841803113250791635"
     },
     "user_tz": -120
    },
    "id": "MqFFpLy6YbeH",
    "outputId": "2351d537-cebc-4383-a0c7-7ee095f53ce2"
   },
   "outputs": [
    {
     "name": "stdout",
     "output_type": "stream",
     "text": [
      "Metrics on all folds:\n",
      "test_roc_auc: [0.85932795 0.82695865 0.86434905 0.84091099]\n",
      "test_accuracy: [0.76233865 0.73348519 0.75094913 0.73196659]\n",
      "test_precision: [0.52862595 0.49261993 0.51369863 0.49183303]\n",
      "test_recall: [0.80758017 0.77842566 0.87209302 0.7877907 ]\n",
      "test_f1: [0.63898501 0.60338983 0.64655172 0.60558659]\n",
      "test_average_precision: [0.66444178 0.62341601 0.68564465 0.66498157]\n"
     ]
    },
    {
     "data": {
      "text/html": [
       "<div>\n",
       "<style scoped>\n",
       "    .dataframe tbody tr th:only-of-type {\n",
       "        vertical-align: middle;\n",
       "    }\n",
       "\n",
       "    .dataframe tbody tr th {\n",
       "        vertical-align: top;\n",
       "    }\n",
       "\n",
       "    .dataframe thead th {\n",
       "        text-align: right;\n",
       "    }\n",
       "</style>\n",
       "<table border=\"1\" class=\"dataframe\">\n",
       "  <thead>\n",
       "    <tr style=\"text-align: right;\">\n",
       "      <th></th>\n",
       "      <th>test_roc_auc</th>\n",
       "      <th>test_accuracy</th>\n",
       "      <th>test_precision</th>\n",
       "      <th>test_recall</th>\n",
       "      <th>test_f1</th>\n",
       "      <th>test_average_precision</th>\n",
       "    </tr>\n",
       "  </thead>\n",
       "  <tbody>\n",
       "    <tr>\n",
       "      <th>log_bsln</th>\n",
       "      <td>0.843631</td>\n",
       "      <td>0.742217</td>\n",
       "      <td>0.503681</td>\n",
       "      <td>0.806370</td>\n",
       "      <td>0.619873</td>\n",
       "      <td>0.648374</td>\n",
       "    </tr>\n",
       "    <tr>\n",
       "      <th>log_bsln + grid_search</th>\n",
       "      <td>0.844282</td>\n",
       "      <td>0.741458</td>\n",
       "      <td>0.502703</td>\n",
       "      <td>0.807101</td>\n",
       "      <td>0.619356</td>\n",
       "      <td>0.649632</td>\n",
       "    </tr>\n",
       "    <tr>\n",
       "      <th>rnd_bsln</th>\n",
       "      <td>0.839807</td>\n",
       "      <td>0.781131</td>\n",
       "      <td>0.565161</td>\n",
       "      <td>0.695738</td>\n",
       "      <td>0.623501</td>\n",
       "      <td>0.644039</td>\n",
       "    </tr>\n",
       "    <tr>\n",
       "      <th>rnd_bsln + grid_search</th>\n",
       "      <td>0.845398</td>\n",
       "      <td>0.749620</td>\n",
       "      <td>0.513210</td>\n",
       "      <td>0.786731</td>\n",
       "      <td>0.620965</td>\n",
       "      <td>0.653043</td>\n",
       "    </tr>\n",
       "    <tr>\n",
       "      <th>xgb_bsln</th>\n",
       "      <td>0.841832</td>\n",
       "      <td>0.745824</td>\n",
       "      <td>0.508026</td>\n",
       "      <td>0.794728</td>\n",
       "      <td>0.619629</td>\n",
       "      <td>0.652336</td>\n",
       "    </tr>\n",
       "    <tr>\n",
       "      <th>xgb_bsln + grid_search</th>\n",
       "      <td>0.847887</td>\n",
       "      <td>0.744685</td>\n",
       "      <td>0.506694</td>\n",
       "      <td>0.811472</td>\n",
       "      <td>0.623628</td>\n",
       "      <td>0.659621</td>\n",
       "    </tr>\n",
       "  </tbody>\n",
       "</table>\n",
       "</div>"
      ],
      "text/plain": [
       "                        test_roc_auc  ...  test_average_precision\n",
       "log_bsln                    0.843631  ...                0.648374\n",
       "log_bsln + grid_search      0.844282  ...                0.649632\n",
       "rnd_bsln                    0.839807  ...                0.644039\n",
       "rnd_bsln + grid_search      0.845398  ...                0.653043\n",
       "xgb_bsln                    0.841832  ...                0.652336\n",
       "xgb_bsln + grid_search      0.847887  ...                0.659621\n",
       "\n",
       "[6 rows x 6 columns]"
      ]
     },
     "execution_count": 48,
     "metadata": {
      "tags": []
     },
     "output_type": "execute_result"
    }
   ],
   "source": [
    "xgb_estimator.set_params(classifier__n_estimators = 200, classifier__max_depth = 2,\n",
    "                        classifier__min_child_weight = 20, classifier__learning_rate = 0.04)\n",
    "\n",
    "cross_val_results('xgb_bsln + grid_search', xgb_estimator)\n",
    "clf_results"
   ]
  },
  {
   "cell_type": "code",
   "execution_count": 49,
   "metadata": {
    "executionInfo": {
     "elapsed": 1478,
     "status": "ok",
     "timestamp": 1605560899641,
     "user": {
      "displayName": "Denis Pushkarev",
      "photoUrl": "",
      "userId": "00841803113250791635"
     },
     "user_tz": -120
    },
    "id": "tb_epYWHYbeX"
   },
   "outputs": [],
   "source": [
    "final_score('xgb', xgb_estimator)"
   ]
  },
  {
   "cell_type": "markdown",
   "metadata": {
    "id": "6-vd828TYbeh"
   },
   "source": [
    "XGBoost predictions on kaggle-test: $AUC - ROC = 0.85047$."
   ]
  },
  {
   "cell_type": "markdown",
   "metadata": {
    "id": "K2CGACUbYbej"
   },
   "source": [
    "### 5.2 Catboost <a name = \"catb\"></a>\n",
    "Catboost is really good library, but combining it with scikit-learn pipelines is a stumbling block for me. Well, I have to use its implemented classes like as Catboost.Pool, Catboost.cv and so on."
   ]
  },
  {
   "cell_type": "code",
   "execution_count": 50,
   "metadata": {
    "executionInfo": {
     "elapsed": 891,
     "status": "ok",
     "timestamp": 1605560910305,
     "user": {
      "displayName": "Denis Pushkarev",
      "photoUrl": "",
      "userId": "00841803113250791635"
     },
     "user_tz": -120
    },
    "id": "Rp7jTTDvYbek"
   },
   "outputs": [],
   "source": [
    "cat_clf = catb.CatBoostClassifier(iterations=1500, learning_rate=0.01, depth=4, loss_function='Logloss', \n",
    "                                  early_stopping_rounds = 50, eval_metric='AUC:hints=skip_train~false', \n",
    "                                  auto_class_weights='Balanced', boosting_type='Ordered', random_state=42, logging_level='Silent')\n",
    "\n",
    "cat_train_data = catb.Pool(data=train_data.drop(columns='HasPhoneService'), label=train_labels, cat_features=cat_feats)"
   ]
  },
  {
   "cell_type": "code",
   "execution_count": 51,
   "metadata": {
    "colab": {
     "base_uri": "https://localhost:8080/"
    },
    "executionInfo": {
     "elapsed": 181892,
     "status": "ok",
     "timestamp": 1605561093123,
     "user": {
      "displayName": "Denis Pushkarev",
      "photoUrl": "",
      "userId": "00841803113250791635"
     },
     "user_tz": -120
    },
    "id": "F3mcU-BaYbet",
    "outputId": "e1fa2283-d2b0-4dbd-d15f-4a2880a97def"
   },
   "outputs": [
    {
     "name": "stdout",
     "output_type": "stream",
     "text": [
      "CPU times: user 1min 36s, sys: 11.4 s, total: 1min 48s\n",
      "Wall time: 3min\n"
     ]
    }
   ],
   "source": [
    "%%time\n",
    "cat_cv = catb.cv(pool=cat_train_data, params=cat_clf.get_params(), folds=cv_split)"
   ]
  },
  {
   "cell_type": "code",
   "execution_count": 52,
   "metadata": {
    "colab": {
     "base_uri": "https://localhost:8080/",
     "height": 94
    },
    "executionInfo": {
     "elapsed": 756,
     "status": "ok",
     "timestamp": 1605561102351,
     "user": {
      "displayName": "Denis Pushkarev",
      "photoUrl": "",
      "userId": "00841803113250791635"
     },
     "user_tz": -120
    },
    "id": "C70XXD2JYbe4",
    "outputId": "51adeeae-f277-481a-e144-60e4cc716fc7"
   },
   "outputs": [
    {
     "data": {
      "text/html": [
       "<div>\n",
       "<style scoped>\n",
       "    .dataframe tbody tr th:only-of-type {\n",
       "        vertical-align: middle;\n",
       "    }\n",
       "\n",
       "    .dataframe tbody tr th {\n",
       "        vertical-align: top;\n",
       "    }\n",
       "\n",
       "    .dataframe thead th {\n",
       "        text-align: right;\n",
       "    }\n",
       "</style>\n",
       "<table border=\"1\" class=\"dataframe\">\n",
       "  <thead>\n",
       "    <tr style=\"text-align: right;\">\n",
       "      <th></th>\n",
       "      <th>iterations</th>\n",
       "      <th>test-AUC-mean</th>\n",
       "      <th>test-AUC-std</th>\n",
       "      <th>train-AUC-mean</th>\n",
       "      <th>train-AUC-std</th>\n",
       "      <th>test-Logloss-mean</th>\n",
       "      <th>test-Logloss-std</th>\n",
       "      <th>train-Logloss-mean</th>\n",
       "      <th>train-Logloss-std</th>\n",
       "    </tr>\n",
       "  </thead>\n",
       "  <tbody>\n",
       "    <tr>\n",
       "      <th>1099</th>\n",
       "      <td>1099</td>\n",
       "      <td>0.846397</td>\n",
       "      <td>0.01672</td>\n",
       "      <td>0.858262</td>\n",
       "      <td>0.004157</td>\n",
       "      <td>0.484908</td>\n",
       "      <td>0.023678</td>\n",
       "      <td>0.467096</td>\n",
       "      <td>0.006232</td>\n",
       "    </tr>\n",
       "  </tbody>\n",
       "</table>\n",
       "</div>"
      ],
      "text/plain": [
       "      iterations  test-AUC-mean  ...  train-Logloss-mean  train-Logloss-std\n",
       "1099        1099       0.846397  ...            0.467096           0.006232\n",
       "\n",
       "[1 rows x 9 columns]"
      ]
     },
     "execution_count": 52,
     "metadata": {
      "tags": []
     },
     "output_type": "execute_result"
    }
   ],
   "source": [
    "cat_cv.iloc[[cat_cv['test-AUC-mean'].idxmax()]]"
   ]
  },
  {
   "cell_type": "code",
   "execution_count": 53,
   "metadata": {
    "colab": {
     "base_uri": "https://localhost:8080/"
    },
    "executionInfo": {
     "elapsed": 4114068,
     "status": "ok",
     "timestamp": 1605565226417,
     "user": {
      "displayName": "Denis Pushkarev",
      "photoUrl": "",
      "userId": "00841803113250791635"
     },
     "user_tz": -120
    },
    "id": "-oLG5gP-YbfR",
    "outputId": "fe96ef54-e641-44e9-fdcf-c1abc4768f06",
    "scrolled": false
   },
   "outputs": [
    {
     "name": "stdout",
     "output_type": "stream",
     "text": [
      "0:\tloss: 0.8462860\tbest: 0.8462860 (0)\ttotal: 2m 56s\tremaining: 2h 23m 53s\n",
      "1:\tloss: 0.8461037\tbest: 0.8462860 (0)\ttotal: 4m 41s\tremaining: 1h 52m 25s\n",
      "2:\tloss: 0.8461851\tbest: 0.8462860 (0)\ttotal: 7m 44s\tremaining: 2h 1m 24s\n",
      "3:\tloss: 0.8463405\tbest: 0.8463405 (3)\ttotal: 9m 43s\tremaining: 1h 51m 47s\n",
      "4:\tloss: 0.8460137\tbest: 0.8463405 (3)\ttotal: 10m 49s\tremaining: 1h 37m 25s\n",
      "5:\tloss: 0.8462860\tbest: 0.8463405 (3)\ttotal: 13m 41s\tremaining: 1h 40m 26s\n",
      "6:\tloss: 0.8459911\tbest: 0.8463405 (3)\ttotal: 15m 15s\tremaining: 1h 33m 46s\n",
      "7:\tloss: 0.8464321\tbest: 0.8464321 (7)\ttotal: 16m 33s\tremaining: 1h 26m 53s\n",
      "8:\tloss: 0.8465552\tbest: 0.8465552 (8)\ttotal: 17m 25s\tremaining: 1h 19m 24s\n",
      "9:\tloss: 0.8463405\tbest: 0.8465552 (8)\ttotal: 19m 14s\tremaining: 1h 16m 57s\n",
      "10:\tloss: 0.8465005\tbest: 0.8465552 (8)\ttotal: 20m 23s\tremaining: 1h 12m 19s\n",
      "11:\tloss: 0.8464781\tbest: 0.8465552 (8)\ttotal: 22m 9s\tremaining: 1h 10m 11s\n",
      "12:\tloss: 0.8465094\tbest: 0.8465552 (8)\ttotal: 23m 10s\tremaining: 1h 5m 57s\n",
      "13:\tloss: 0.8468511\tbest: 0.8468511 (13)\ttotal: 24m 44s\tremaining: 1h 3m 38s\n",
      "14:\tloss: 0.8466071\tbest: 0.8468511 (13)\ttotal: 27m 34s\tremaining: 1h 4m 20s\n",
      "15:\tloss: 0.8466901\tbest: 0.8468511 (13)\ttotal: 28m 22s\tremaining: 1h 18s\n",
      "16:\tloss: 0.8465934\tbest: 0.8468511 (13)\ttotal: 29m 1s\tremaining: 56m 20s\n",
      "17:\tloss: 0.8464781\tbest: 0.8468511 (13)\ttotal: 30m 44s\tremaining: 54m 39s\n",
      "18:\tloss: 0.8464904\tbest: 0.8468511 (13)\ttotal: 31m 32s\tremaining: 51m 28s\n",
      "19:\tloss: 0.8465727\tbest: 0.8468511 (13)\ttotal: 32m 26s\tremaining: 48m 39s\n",
      "20:\tloss: 0.8464174\tbest: 0.8468511 (13)\ttotal: 33m 29s\tremaining: 46m 14s\n",
      "21:\tloss: 0.8470081\tbest: 0.8470081 (21)\ttotal: 34m 20s\tremaining: 43m 42s\n",
      "22:\tloss: 0.8465398\tbest: 0.8470081 (21)\ttotal: 35m 14s\tremaining: 41m 22s\n",
      "23:\tloss: 0.8465860\tbest: 0.8470081 (21)\ttotal: 38m 14s\tremaining: 41m 26s\n",
      "24:\tloss: 0.8469568\tbest: 0.8470081 (21)\ttotal: 39m 24s\tremaining: 39m 24s\n",
      "25:\tloss: 0.8467239\tbest: 0.8470081 (21)\ttotal: 40m 10s\tremaining: 37m 5s\n",
      "26:\tloss: 0.8467941\tbest: 0.8470081 (21)\ttotal: 41m 10s\tremaining: 35m 4s\n",
      "27:\tloss: 0.8464832\tbest: 0.8470081 (21)\ttotal: 41m 51s\tremaining: 32m 53s\n",
      "28:\tloss: 0.8464174\tbest: 0.8470081 (21)\ttotal: 42m 49s\tremaining: 31m\n",
      "29:\tloss: 0.8465860\tbest: 0.8470081 (21)\ttotal: 45m 49s\tremaining: 30m 32s\n",
      "30:\tloss: 0.8469568\tbest: 0.8470081 (21)\ttotal: 47m 1s\tremaining: 28m 49s\n",
      "31:\tloss: 0.8469015\tbest: 0.8470081 (21)\ttotal: 48m 23s\tremaining: 27m 13s\n",
      "32:\tloss: 0.8462109\tbest: 0.8470081 (21)\ttotal: 49m 7s\tremaining: 25m 18s\n",
      "33:\tloss: 0.8465869\tbest: 0.8470081 (21)\ttotal: 51m 51s\tremaining: 24m 24s\n",
      "34:\tloss: 0.8459688\tbest: 0.8470081 (21)\ttotal: 52m 31s\tremaining: 22m 30s\n",
      "35:\tloss: 0.8454065\tbest: 0.8470081 (21)\ttotal: 53m 19s\tremaining: 20m 44s\n",
      "36:\tloss: 0.8465818\tbest: 0.8470081 (21)\ttotal: 54m 58s\tremaining: 19m 18s\n",
      "37:\tloss: 0.8457939\tbest: 0.8470081 (21)\ttotal: 55m 39s\tremaining: 17m 34s\n",
      "38:\tloss: 0.8466801\tbest: 0.8470081 (21)\ttotal: 56m 41s\tremaining: 15m 59s\n",
      "39:\tloss: 0.8459688\tbest: 0.8470081 (21)\ttotal: 57m 21s\tremaining: 14m 20s\n",
      "40:\tloss: 0.8460277\tbest: 0.8470081 (21)\ttotal: 58m 23s\tremaining: 12m 49s\n",
      "41:\tloss: 0.8463728\tbest: 0.8470081 (21)\ttotal: 59m 14s\tremaining: 11m 16s\n",
      "42:\tloss: 0.8463964\tbest: 0.8470081 (21)\ttotal: 1h 56s\tremaining: 9m 55s\n",
      "43:\tloss: 0.8463954\tbest: 0.8470081 (21)\ttotal: 1h 2m 3s\tremaining: 8m 27s\n",
      "44:\tloss: 0.8467153\tbest: 0.8470081 (21)\ttotal: 1h 2m 54s\tremaining: 6m 59s\n",
      "45:\tloss: 0.8457229\tbest: 0.8470081 (21)\ttotal: 1h 3m 39s\tremaining: 5m 32s\n",
      "46:\tloss: 0.8463964\tbest: 0.8470081 (21)\ttotal: 1h 5m 17s\tremaining: 4m 10s\n",
      "47:\tloss: 0.8458390\tbest: 0.8470081 (21)\ttotal: 1h 6m 17s\tremaining: 2m 45s\n",
      "48:\tloss: 0.8464420\tbest: 0.8470081 (21)\ttotal: 1h 7m 2s\tremaining: 1m 22s\n",
      "49:\tloss: 0.8463954\tbest: 0.8470081 (21)\ttotal: 1h 8m 7s\tremaining: 0us\n",
      "CPU times: user 38min 22s, sys: 4min 10s, total: 42min 33s\n",
      "Wall time: 1h 8min 32s\n"
     ]
    }
   ],
   "source": [
    "%%time\n",
    "cat_grid = {'learning_rate': np.arange(0.01, 0.051, 0.01),\n",
    "           'depth': np.arange(2, 7),\n",
    "            'l2_leaf_reg': [2.5, 3.0, 3.5],\n",
    "            'auto_class_weights': ['SqrtBalanced', 'Balanced']}\n",
    "cat_grid_results = cat_clf.randomized_search(cat_grid, cat_train_data, n_iter=50, \n",
    "                                             cv=cv_split, search_by_train_test_split=False)"
   ]
  },
  {
   "cell_type": "code",
   "execution_count": 54,
   "metadata": {
    "colab": {
     "base_uri": "https://localhost:8080/"
    },
    "executionInfo": {
     "elapsed": 714,
     "status": "ok",
     "timestamp": 1605565238599,
     "user": {
      "displayName": "Denis Pushkarev",
      "photoUrl": "",
      "userId": "00841803113250791635"
     },
     "user_tz": -120
    },
    "id": "IahtOKVtzoIO",
    "outputId": "477e0430-e6ce-401d-de90-44b78eb5249f"
   },
   "outputs": [
    {
     "data": {
      "text/plain": [
       "{'auto_class_weights': 'SqrtBalanced',\n",
       " 'depth': 4,\n",
       " 'l2_leaf_reg': 2.5,\n",
       " 'learning_rate': 0.04}"
      ]
     },
     "execution_count": 54,
     "metadata": {
      "tags": []
     },
     "output_type": "execute_result"
    }
   ],
   "source": [
    "cat_grid_results['params']"
   ]
  },
  {
   "cell_type": "code",
   "execution_count": 56,
   "metadata": {
    "executionInfo": {
     "elapsed": 703,
     "status": "ok",
     "timestamp": 1605565397610,
     "user": {
      "displayName": "Denis Pushkarev",
      "photoUrl": "",
      "userId": "00841803113250791635"
     },
     "user_tz": -120
    },
    "id": "P884x9YkJa1V"
   },
   "outputs": [],
   "source": [
    "cat_test_data = catb.Pool(data=test_data.drop(columns='HasPhoneService'), cat_features=cat_feats)\n",
    "submission = pd.read_csv('./submission.csv')\n",
    "submission['Churn'] = cat_clf.predict_proba(cat_test_data)[:, 1]\n",
    "submission.to_csv('cat_answers.csv', index = False)"
   ]
  },
  {
   "cell_type": "markdown",
   "metadata": {
    "id": "rf4Kjt96EEZU"
   },
   "source": [
    "CatBoost predictions on kaggle-test: $AUC - ROC = 0.85185$, still pretty close to cross-validation results."
   ]
  }
 ],
 "metadata": {
  "colab": {
   "collapsed_sections": [],
   "name": "[github_eng]simple-churn-prediction.ipynb",
   "provenance": [],
   "toc_visible": true
  },
  "kernelspec": {
   "display_name": "Python 3",
   "language": "python",
   "name": "python3"
  },
  "language_info": {
   "codemirror_mode": {
    "name": "ipython",
    "version": 3
   },
   "file_extension": ".py",
   "mimetype": "text/x-python",
   "name": "python",
   "nbconvert_exporter": "python",
   "pygments_lexer": "ipython3",
   "version": "3.7.3"
  }
 },
 "nbformat": 4,
 "nbformat_minor": 1
}
